{
  "nbformat": 4,
  "nbformat_minor": 0,
  "metadata": {
    "colab": {
      "name": "credly.ipynb",
      "provenance": [],
      "collapsed_sections": [
        "Z0ORZ5iY4GS9"
      ]
    },
    "kernelspec": {
      "name": "python3",
      "display_name": "Python 3"
    },
    "language_info": {
      "name": "python"
    }
  },
  "cells": [
    {
      "cell_type": "markdown",
      "metadata": {
        "id": "Z0ORZ5iY4GS9"
      },
      "source": [
        "# INSTALLING SELENIUM ON COLAB"
      ]
    },
    {
      "cell_type": "code",
      "metadata": {
        "colab": {
          "base_uri": "https://localhost:8080/"
        },
        "id": "cwILgFBGx5wB",
        "outputId": "90d9e56b-e5ff-4e6a-8790-dc59ba198582"
      },
      "source": [
        "!pip install selenium\n",
        "!apt-get update # to update ubuntu to correctly run apt install\n",
        "!apt install chromium-chromedriver\n",
        "!cp /usr/lib/chromium-browser/chromedriver /usr/bin\n"
      ],
      "execution_count": null,
      "outputs": [
        {
          "output_type": "stream",
          "text": [
            "Collecting selenium\n",
            "\u001b[?25l  Downloading https://files.pythonhosted.org/packages/80/d6/4294f0b4bce4de0abf13e17190289f9d0613b0a44e5dd6a7f5ca98459853/selenium-3.141.0-py2.py3-none-any.whl (904kB)\n",
            "\u001b[K     |████████████████████████████████| 911kB 5.1MB/s \n",
            "\u001b[?25hRequirement already satisfied: urllib3 in /usr/local/lib/python3.7/dist-packages (from selenium) (1.24.3)\n",
            "Installing collected packages: selenium\n",
            "Successfully installed selenium-3.141.0\n",
            "Get:1 http://security.ubuntu.com/ubuntu bionic-security InRelease [88.7 kB]\n",
            "Ign:2 https://developer.download.nvidia.com/compute/cuda/repos/ubuntu1804/x86_64  InRelease\n",
            "Get:3 http://ppa.launchpad.net/c2d4u.team/c2d4u4.0+/ubuntu bionic InRelease [15.9 kB]\n",
            "Hit:4 http://archive.ubuntu.com/ubuntu bionic InRelease\n",
            "Ign:5 https://developer.download.nvidia.com/compute/machine-learning/repos/ubuntu1804/x86_64  InRelease\n",
            "Get:6 https://developer.download.nvidia.com/compute/cuda/repos/ubuntu1804/x86_64  Release [697 B]\n",
            "Hit:7 https://developer.download.nvidia.com/compute/machine-learning/repos/ubuntu1804/x86_64  Release\n",
            "Get:8 https://developer.download.nvidia.com/compute/cuda/repos/ubuntu1804/x86_64  Release.gpg [836 B]\n",
            "Get:9 http://archive.ubuntu.com/ubuntu bionic-updates InRelease [88.7 kB]\n",
            "Get:10 https://cloud.r-project.org/bin/linux/ubuntu bionic-cran40/ InRelease [3,626 B]\n",
            "Hit:11 http://ppa.launchpad.net/cran/libgit2/ubuntu bionic InRelease\n",
            "Get:12 http://security.ubuntu.com/ubuntu bionic-security/universe amd64 Packages [1,418 kB]\n",
            "Get:13 http://archive.ubuntu.com/ubuntu bionic-backports InRelease [74.6 kB]\n",
            "Get:14 http://ppa.launchpad.net/deadsnakes/ppa/ubuntu bionic InRelease [15.9 kB]\n",
            "Get:15 http://security.ubuntu.com/ubuntu bionic-security/main amd64 Packages [2,221 kB]\n",
            "Hit:16 http://ppa.launchpad.net/graphics-drivers/ppa/ubuntu bionic InRelease\n",
            "Ign:18 https://developer.download.nvidia.com/compute/cuda/repos/ubuntu1804/x86_64  Packages\n",
            "Get:18 https://developer.download.nvidia.com/compute/cuda/repos/ubuntu1804/x86_64  Packages [637 kB]\n",
            "Get:19 http://ppa.launchpad.net/c2d4u.team/c2d4u4.0+/ubuntu bionic/main Sources [1,780 kB]\n",
            "Get:20 https://cloud.r-project.org/bin/linux/ubuntu bionic-cran40/ Packages [62.2 kB]\n",
            "Get:21 http://archive.ubuntu.com/ubuntu bionic-updates/universe amd64 Packages [2,188 kB]\n",
            "Get:22 http://ppa.launchpad.net/c2d4u.team/c2d4u4.0+/ubuntu bionic/main amd64 Packages [911 kB]\n",
            "Get:23 http://archive.ubuntu.com/ubuntu bionic-updates/main amd64 Packages [2,658 kB]\n",
            "Get:24 http://ppa.launchpad.net/deadsnakes/ppa/ubuntu bionic/main amd64 Packages [40.9 kB]\n",
            "Fetched 12.2 MB in 4s (3,454 kB/s)\n",
            "Reading package lists... Done\n",
            "Reading package lists... Done\n",
            "Building dependency tree       \n",
            "Reading state information... Done\n",
            "The following additional packages will be installed:\n",
            "  chromium-browser chromium-browser-l10n chromium-codecs-ffmpeg-extra\n",
            "Suggested packages:\n",
            "  webaccounts-chromium-extension unity-chromium-extension\n",
            "The following NEW packages will be installed:\n",
            "  chromium-browser chromium-browser-l10n chromium-chromedriver\n",
            "  chromium-codecs-ffmpeg-extra\n",
            "0 upgraded, 4 newly installed, 0 to remove and 59 not upgraded.\n",
            "Need to get 86.0 MB of archives.\n",
            "After this operation, 298 MB of additional disk space will be used.\n",
            "Get:1 http://archive.ubuntu.com/ubuntu bionic-updates/universe amd64 chromium-codecs-ffmpeg-extra amd64 91.0.4472.101-0ubuntu0.18.04.1 [1,124 kB]\n",
            "Get:2 http://archive.ubuntu.com/ubuntu bionic-updates/universe amd64 chromium-browser amd64 91.0.4472.101-0ubuntu0.18.04.1 [76.1 MB]\n",
            "Get:3 http://archive.ubuntu.com/ubuntu bionic-updates/universe amd64 chromium-browser-l10n all 91.0.4472.101-0ubuntu0.18.04.1 [3,937 kB]\n",
            "Get:4 http://archive.ubuntu.com/ubuntu bionic-updates/universe amd64 chromium-chromedriver amd64 91.0.4472.101-0ubuntu0.18.04.1 [4,837 kB]\n",
            "Fetched 86.0 MB in 4s (23.0 MB/s)\n",
            "Selecting previously unselected package chromium-codecs-ffmpeg-extra.\n",
            "(Reading database ... 160815 files and directories currently installed.)\n",
            "Preparing to unpack .../chromium-codecs-ffmpeg-extra_91.0.4472.101-0ubuntu0.18.04.1_amd64.deb ...\n",
            "Unpacking chromium-codecs-ffmpeg-extra (91.0.4472.101-0ubuntu0.18.04.1) ...\n",
            "Selecting previously unselected package chromium-browser.\n",
            "Preparing to unpack .../chromium-browser_91.0.4472.101-0ubuntu0.18.04.1_amd64.deb ...\n",
            "Unpacking chromium-browser (91.0.4472.101-0ubuntu0.18.04.1) ...\n",
            "Selecting previously unselected package chromium-browser-l10n.\n",
            "Preparing to unpack .../chromium-browser-l10n_91.0.4472.101-0ubuntu0.18.04.1_all.deb ...\n",
            "Unpacking chromium-browser-l10n (91.0.4472.101-0ubuntu0.18.04.1) ...\n",
            "Selecting previously unselected package chromium-chromedriver.\n",
            "Preparing to unpack .../chromium-chromedriver_91.0.4472.101-0ubuntu0.18.04.1_amd64.deb ...\n",
            "Unpacking chromium-chromedriver (91.0.4472.101-0ubuntu0.18.04.1) ...\n",
            "Setting up chromium-codecs-ffmpeg-extra (91.0.4472.101-0ubuntu0.18.04.1) ...\n",
            "Setting up chromium-browser (91.0.4472.101-0ubuntu0.18.04.1) ...\n",
            "update-alternatives: using /usr/bin/chromium-browser to provide /usr/bin/x-www-browser (x-www-browser) in auto mode\n",
            "update-alternatives: using /usr/bin/chromium-browser to provide /usr/bin/gnome-www-browser (gnome-www-browser) in auto mode\n",
            "Setting up chromium-chromedriver (91.0.4472.101-0ubuntu0.18.04.1) ...\n",
            "Setting up chromium-browser-l10n (91.0.4472.101-0ubuntu0.18.04.1) ...\n",
            "Processing triggers for man-db (2.8.3-2ubuntu0.1) ...\n",
            "Processing triggers for hicolor-icon-theme (0.17-2) ...\n",
            "Processing triggers for mime-support (3.60ubuntu1) ...\n",
            "Processing triggers for libc-bin (2.27-3ubuntu1.2) ...\n",
            "/sbin/ldconfig.real: /usr/local/lib/python3.7/dist-packages/ideep4py/lib/libmkldnn.so.0 is not a symbolic link\n",
            "\n",
            "cp: '/usr/lib/chromium-browser/chromedriver' and '/usr/bin/chromedriver' are the same file\n"
          ],
          "name": "stdout"
        }
      ]
    },
    {
      "cell_type": "code",
      "metadata": {
        "id": "_D7bVs2GzX62"
      },
      "source": [
        "import sys\n",
        "sys.path.insert(0,'/usr/lib/chromium-browser/chromedriver')\n"
      ],
      "execution_count": null,
      "outputs": []
    },
    {
      "cell_type": "markdown",
      "metadata": {
        "id": "l9alSHuY3kiz"
      },
      "source": [
        "# GETTING ALL AVAILABLE LINKS FROM CREDLY SITE\n"
      ]
    },
    {
      "cell_type": "code",
      "metadata": {
        "id": "PHLJm1ik0FMw"
      },
      "source": [
        "from selenium import webdriver\n",
        "# from webdriver_manager.chrome import ChromeDriverManager\n",
        "from selenium.webdriver.support.ui import WebDriverWait  # for implicit and explict waits\n",
        "from selenium.common.exceptions import NoSuchElementException \n",
        "from selenium.webdriver.common.keys import Keys\n",
        "from time import sleep\n",
        "import pandas as pd\n",
        "import string\n",
        "from tqdm import tqdm\n",
        "\n",
        "def scrap_links(credit0,credit1,alpha=26):\n",
        "  print(\"Getting all links, you have to wait...\")\n",
        "  temp_list = []\n",
        "  print(\"\\nChecking driver in catch or Downloading it ...\")\n",
        "  option = webdriver.ChromeOptions()\n",
        "  option.add_argument('--headless')\n",
        "  option.add_argument('--no-sandbox')\n",
        "  option.add_argument('--disable-dev-shm-usage')\n",
        "  driver = webdriver.Chrome('chromedriver',options=option)\n",
        "  # driver = webdriver.Chrome(ChromeDriverManager().install(),options=option)\n",
        "\n",
        "  driver.get(\"https://www.credly.com/users/sign_in\")\n",
        "\n",
        "  WebDriverWait(driver, timeout=3)\n",
        "  username=driver.find_element_by_name (\"email\") \n",
        "  username.send_keys(credit0) \n",
        "  password =driver.find_element_by_name (\"password\") \n",
        "  password.send_keys(credit1) \n",
        "  login_button = driver.find_element_by_xpath (\"//button[@type='submit']\")    \n",
        "  login_button.click()\n",
        "  sleep(5)\n",
        "  vm_button = driver.find_element_by_xpath ('//*[@id=\"website-header\"]/div[4]/div/nav/div[1]') \n",
        "  vm_button.click()\n",
        "  sleep(1)\n",
        "\n",
        "  # print(\"fetching data...\")\n",
        "  for key in tqdm(string.ascii_lowercase[:alpha], position=0, leave=True):\n",
        "      try:\n",
        "          # print(\"for key \",key)\n",
        "          searchbar=driver.find_element_by_id(\"search_input_2\")\n",
        "          searchbar.send_keys(Keys.BACKSPACE) \n",
        "          searchbar.send_keys(key) \n",
        "          sleep(3)\n",
        "          vm_button = driver.find_element_by_xpath('/html/body/div[1]/div/div[2]/div/div/div[1]/nav/div[2]/ul/li[2]') \n",
        "          vm_button.click() \n",
        "          sleep(2)\n",
        "          cfreq_source = driver.find_elements_by_xpath(\"/html/body/div[1]/div/div[2]/div/div/div[2]/div/div/div/div/a\")\n",
        "          for x in cfreq_source:\n",
        "              # to check available attributes in element\n",
        "              # attrs = driver.execute_script('var items = {}; for (index = 0; index < arguments[0].attributes.length; ++index) { items[arguments[0].attributes[index].name] = arguments[0].attributes[index].value }; return items;', x)\n",
        "              # print(attrs)\n",
        "              temp_list.append(x.get_attribute('href'))\n",
        "              # print(x.get_attribute('href'))\n",
        "          sleep(3)\n",
        "      except NoSuchElementException as ex:\n",
        "          print(\"Content not found!\\nErr: \",ex)\n",
        "\n",
        "  try:\n",
        "    df = pd.DataFrame(list(set(temp_list)))\n",
        "    df.to_csv('file_add.csv', index=False, header=False)\n",
        "  except:\n",
        "    print(\"Couldn't save file\")\n",
        "  print(\"quiting driver ...\")\n",
        "  driver.quit()\n",
        "  return temp_list\n",
        "\n",
        "# print(scrap_links('example@gmail.com','password',1))"
      ],
      "execution_count": null,
      "outputs": []
    },
    {
      "cell_type": "markdown",
      "metadata": {
        "id": "JImcXwZi37LS"
      },
      "source": [
        "# SCRAP PARAMETERED URLS"
      ]
    },
    {
      "cell_type": "code",
      "metadata": {
        "colab": {
          "base_uri": "https://localhost:8080/"
        },
        "id": "0v_6fdEZvC9Y",
        "outputId": "6f24afe5-c978-4755-b966-18782f9cbf45"
      },
      "source": [
        "from selenium import webdriver\n",
        "# from webdriver_manager.chrome import ChromeDriverManager\n",
        "from time import sleep\n",
        "import pandas as pd\n",
        "from tqdm import tqdm\n",
        "\n",
        "def scrap_free(paratroops,add_list):\n",
        "    print(\"geting para links\")\n",
        "    temp_list_free = []\n",
        "    if len(add_list) > 0:\n",
        "      temp_list = add_list\n",
        "    else:\n",
        "      try:\n",
        "        df = pd.read_csv(r'file_add.csv')\n",
        "        temp_list = df.iloc[:,0].tolist()\n",
        "      except:\n",
        "        print(\"Couldn't find file.\")\n",
        "        exit(\"Dead Process\")\n",
        "    print(\"\\nChecking driver in catch or Downloading it ...\")\n",
        "    option = webdriver.ChromeOptions()\n",
        "    option.add_argument('--headless')\n",
        "    option.add_argument('--no-sandbox')\n",
        "    option.add_argument('--disable-dev-shm-usage')\n",
        "    driver = webdriver.Chrome('chromedriver',options=option)\n",
        "    # driver.maximize_window()\n",
        "    for i in tqdm(temp_list, position=0, leave=True):\n",
        "        driver.get(i)\n",
        "        try:\n",
        "            cost_exist = driver.find_elements_by_xpath(\"/html/body/main/div[1]/div/div/div[2]/div[1]/ul/li/span[2]\")\n",
        "            for x in cost_exist:\n",
        "                # to check available attributes in element\n",
        "                # attrs = driver.execute_script('var items = {}; for (index = 0; index < arguments[0].attributes.length; ++index) { items[arguments[0].attributes[index].name] = arguments[0].attributes[index].value }; return items;', x)\n",
        "                # print(attrs)\n",
        "                if x.get_attribute(\"innerText\") in paratroops:\n",
        "                    print(\"\\n\",x.get_attribute(\"innerText\"),\" link: \",i)\n",
        "                    temp_list_free.append(i)\n",
        "        except:\n",
        "            print(\"Cost not found.\")\n",
        "    print(\"Closing browser\")\n",
        "    driver.close()\n",
        "    try:\n",
        "      if len(temp_list_free) > 0:\n",
        "        df = pd.DataFrame(list(set(temp_list_free)))\n",
        "        df.to_csv('para_list.csv', index=False, header=False)\n",
        "    except:\n",
        "      print(\"Couldn't save file\")\n",
        "    return temp_list_free\n",
        "    \n",
        "scrap_free(['Free'],scrap_links('example@gmail.com','password',26))\n",
        "# other options are here:(choose any one)\n",
        "\n",
        "# Validation\n",
        "# Foundational\n",
        "# Months\n",
        "# Learning\n",
        "# Intermediate\n",
        "# Hours\n",
        "# Experience\n",
        "# Free\n",
        "# Advanced\n"
      ],
      "execution_count": null,
      "outputs": [
        {
          "output_type": "stream",
          "text": [
            "Getting all links, you have to wait...\n",
            "\n",
            "Checking driver in catch or Downloading it ...\n"
          ],
          "name": "stdout"
        },
        {
          "output_type": "stream",
          "text": [
            "100%|██████████| 26/26 [03:41<00:00,  8.53s/it]\n",
            "100%|██████████| 26/26 [03:41<00:00,  8.51s/it]\n"
          ],
          "name": "stderr"
        },
        {
          "output_type": "stream",
          "text": [
            "quiting driver ...\n",
            "geting para links\n",
            "\n",
            "Checking driver in catch or Downloading it ...\n"
          ],
          "name": "stdout"
        },
        {
          "output_type": "stream",
          "text": [
            "  1%|▏         | 16/1225 [00:08<10:24,  1.94it/s]"
          ],
          "name": "stderr"
        },
        {
          "output_type": "stream",
          "text": [
            "\n",
            " Free  link:  https://www.credly.com/org/capacitacion-usach/badge/introduccion-a-kali\n"
          ],
          "name": "stdout"
        },
        {
          "output_type": "stream",
          "text": [
            "  1%|▏         | 18/1225 [00:09<09:54,  2.03it/s]"
          ],
          "name": "stderr"
        },
        {
          "output_type": "stream",
          "text": [
            "\n",
            " Free  link:  https://www.credly.com/org/east-noble-school-corporation/badge/science-a-z\n"
          ],
          "name": "stdout"
        },
        {
          "output_type": "stream",
          "text": [
            "\r  2%|▏         | 19/1225 [00:10<09:23,  2.14it/s]"
          ],
          "name": "stderr"
        },
        {
          "output_type": "stream",
          "text": [
            "\n",
            " Free  link:  https://www.credly.com/org/fundacion-universitaria-los-libertadores/badge/introduccion-a-los-negocios-a-partir-de-simuladores\n"
          ],
          "name": "stdout"
        },
        {
          "output_type": "stream",
          "text": [
            "  2%|▏         | 28/1225 [00:14<10:08,  1.97it/s]"
          ],
          "name": "stderr"
        },
        {
          "output_type": "stream",
          "text": [
            "\n",
            " Free  link:  https://www.credly.com/org/laticrete/badge/introduccion-a-autonivelantes\n"
          ],
          "name": "stdout"
        },
        {
          "output_type": "stream",
          "text": [
            "\r  2%|▏         | 29/1225 [00:14<09:54,  2.01it/s]"
          ],
          "name": "stderr"
        },
        {
          "output_type": "stream",
          "text": [
            "\n",
            " Free  link:  https://www.credly.com/org/capacitacion-usach/badge/introduccion-a-linux\n"
          ],
          "name": "stdout"
        },
        {
          "output_type": "stream",
          "text": [
            "  3%|▎         | 31/1225 [00:15<09:15,  2.15it/s]"
          ],
          "name": "stderr"
        },
        {
          "output_type": "stream",
          "text": [
            "\n",
            " Free  link:  https://www.credly.com/org/east-noble-school-corporation/badge/skype-a-scientist\n"
          ],
          "name": "stdout"
        },
        {
          "output_type": "stream",
          "text": [
            "  3%|▎         | 33/1225 [00:16<09:33,  2.08it/s]"
          ],
          "name": "stderr"
        },
        {
          "output_type": "stream",
          "text": [
            "\n",
            " Free  link:  https://www.credly.com/org/el-puerto-de-liverpool/badge/atencion-a-comensales.2\n"
          ],
          "name": "stdout"
        },
        {
          "output_type": "stream",
          "text": [
            "\r  3%|▎         | 34/1225 [00:17<10:02,  1.98it/s]"
          ],
          "name": "stderr"
        },
        {
          "output_type": "stream",
          "text": [
            "\n",
            " Free  link:  https://www.credly.com/org/el-puerto-de-liverpool/badge/atencion-a-comensales-2020\n"
          ],
          "name": "stdout"
        },
        {
          "output_type": "stream",
          "text": [
            "  3%|▎         | 40/1225 [00:20<10:54,  1.81it/s]"
          ],
          "name": "stderr"
        },
        {
          "output_type": "stream",
          "text": [
            "\n",
            " Free  link:  https://www.credly.com/org/universidad-santo-tomas/badge/joven-investigador-a\n"
          ],
          "name": "stdout"
        },
        {
          "output_type": "stream",
          "text": [
            " 12%|█▏        | 153/1225 [01:16<08:52,  2.01it/s]"
          ],
          "name": "stderr"
        },
        {
          "output_type": "stream",
          "text": [
            "\n",
            " Free  link:  https://www.credly.com/org/pvh/badge/i-d-champion-level-1\n"
          ],
          "name": "stdout"
        },
        {
          "output_type": "stream",
          "text": [
            " 14%|█▍        | 174/1225 [01:26<10:12,  1.71it/s]"
          ],
          "name": "stderr"
        },
        {
          "output_type": "stream",
          "text": [
            "\n",
            " Free  link:  https://www.credly.com/org/ibm/badge/design-user-experience-d-ux-essentials\n"
          ],
          "name": "stdout"
        },
        {
          "output_type": "stream",
          "text": [
            " 16%|█▋        | 202/1225 [01:43<10:17,  1.66it/s]"
          ],
          "name": "stderr"
        },
        {
          "output_type": "stream",
          "text": [
            "\n",
            " Free  link:  https://www.credly.com/org/universidad-externado-de-colombia/badge/diseno-curricular-e-e-learning.2\n"
          ],
          "name": "stdout"
        },
        {
          "output_type": "stream",
          "text": [
            " 17%|█▋        | 204/1225 [01:44<10:06,  1.68it/s]"
          ],
          "name": "stderr"
        },
        {
          "output_type": "stream",
          "text": [
            "\n",
            " Free  link:  https://www.credly.com/org/universidad-externado-de-colombia/badge/e-moderacion\n"
          ],
          "name": "stdout"
        },
        {
          "output_type": "stream",
          "text": [
            " 18%|█▊        | 220/1225 [01:52<08:21,  2.00it/s]"
          ],
          "name": "stderr"
        },
        {
          "output_type": "stream",
          "text": [
            "\n",
            " Free  link:  https://www.credly.com/org/real-ideas-organisation/badge/generation-e-young-campaigner\n"
          ],
          "name": "stdout"
        },
        {
          "output_type": "stream",
          "text": [
            " 18%|█▊        | 223/1225 [01:54<07:36,  2.19it/s]"
          ],
          "name": "stderr"
        },
        {
          "output_type": "stream",
          "text": [
            "\n",
            " Free  link:  https://www.credly.com/org/fundacion-universitaria-los-libertadores/badge/investigacion-e-innovacion-educativa\n"
          ],
          "name": "stdout"
        },
        {
          "output_type": "stream",
          "text": [
            " 19%|█▉        | 230/1225 [01:57<07:22,  2.25it/s]"
          ],
          "name": "stderr"
        },
        {
          "output_type": "stream",
          "text": [
            "\n",
            " Free  link:  https://www.credly.com/org/real-ideas-organisation/badge/generation-e-connect-participation\n"
          ],
          "name": "stdout"
        },
        {
          "output_type": "stream",
          "text": [
            " 19%|█▉        | 238/1225 [02:01<08:18,  1.98it/s]"
          ],
          "name": "stderr"
        },
        {
          "output_type": "stream",
          "text": [
            "\n",
            " Free  link:  https://www.credly.com/org/real-ideas-organisation/badge/generation-e-young-facilitator\n"
          ],
          "name": "stdout"
        },
        {
          "output_type": "stream",
          "text": [
            "\r 20%|█▉        | 239/1225 [02:01<08:01,  2.05it/s]"
          ],
          "name": "stderr"
        },
        {
          "output_type": "stream",
          "text": [
            "\n",
            " Free  link:  https://www.credly.com/org/real-ideas-organisation/badge/generation-e-youth-insight\n"
          ],
          "name": "stdout"
        },
        {
          "output_type": "stream",
          "text": [
            " 20%|██        | 248/1225 [02:05<07:58,  2.04it/s]"
          ],
          "name": "stderr"
        },
        {
          "output_type": "stream",
          "text": [
            "\n",
            " Free  link:  https://www.credly.com/org/real-ideas-organisation/badge/generation-e-connect-engagement\n"
          ],
          "name": "stdout"
        },
        {
          "output_type": "stream",
          "text": [
            "\r 20%|██        | 249/1225 [02:06<08:36,  1.89it/s]"
          ],
          "name": "stderr"
        },
        {
          "output_type": "stream",
          "text": [
            "\n",
            " Free  link:  https://www.credly.com/org/real-ideas-organisation/badge/generation-e-mindset-week\n"
          ],
          "name": "stdout"
        },
        {
          "output_type": "stream",
          "text": [
            "\r 20%|██        | 250/1225 [02:06<08:20,  1.95it/s]"
          ],
          "name": "stderr"
        },
        {
          "output_type": "stream",
          "text": [
            "\n",
            " Free  link:  https://www.credly.com/org/real-ideas-organisation/badge/generation-e-young-consultant\n"
          ],
          "name": "stdout"
        },
        {
          "output_type": "stream",
          "text": [
            " 21%|██        | 253/1225 [02:08<07:10,  2.26it/s]"
          ],
          "name": "stderr"
        },
        {
          "output_type": "stream",
          "text": [
            "\n",
            " Free  link:  https://www.credly.com/org/ibm/badge/ibm-f-o-internal-trainer\n"
          ],
          "name": "stdout"
        },
        {
          "output_type": "stream",
          "text": [
            " 21%|██        | 258/1225 [02:10<07:16,  2.21it/s]"
          ],
          "name": "stderr"
        },
        {
          "output_type": "stream",
          "text": [
            "\n",
            " Free  link:  https://www.credly.com/org/p-g/badge/f-a-future-proofing-business-analysis\n"
          ],
          "name": "stdout"
        },
        {
          "output_type": "stream",
          "text": [
            " 22%|██▏       | 264/1225 [02:13<08:10,  1.96it/s]"
          ],
          "name": "stderr"
        },
        {
          "output_type": "stream",
          "text": [
            "\n",
            " Free  link:  https://www.credly.com/org/p-g/badge/p-g-project-management-foundations-for-f-a\n"
          ],
          "name": "stdout"
        },
        {
          "output_type": "stream",
          "text": [
            " 22%|██▏       | 266/1225 [02:14<07:59,  2.00it/s]"
          ],
          "name": "stderr"
        },
        {
          "output_type": "stream",
          "text": [
            "\n",
            " Free  link:  https://www.credly.com/org/ibm/badge/f-o-cognitive-analytics-experience-data-analytics\n"
          ],
          "name": "stdout"
        },
        {
          "output_type": "stream",
          "text": [
            " 25%|██▍       | 301/1225 [02:32<07:19,  2.10it/s]"
          ],
          "name": "stderr"
        },
        {
          "output_type": "stream",
          "text": [
            "\n",
            " Free  link:  https://www.credly.com/org/p-g/badge/p-g-programmatic\n"
          ],
          "name": "stdout"
        },
        {
          "output_type": "stream",
          "text": [
            "\r 25%|██▍       | 302/1225 [02:33<08:03,  1.91it/s]"
          ],
          "name": "stderr"
        },
        {
          "output_type": "stream",
          "text": [
            "\n",
            " Free  link:  https://www.credly.com/org/p-g/badge/p-g-google-fundamentals\n"
          ],
          "name": "stdout"
        },
        {
          "output_type": "stream",
          "text": [
            "\r 25%|██▍       | 303/1225 [02:34<08:10,  1.88it/s]"
          ],
          "name": "stderr"
        },
        {
          "output_type": "stream",
          "text": [
            "\n",
            " Free  link:  https://www.credly.com/org/p-g/badge/p-g-google-intermediate\n"
          ],
          "name": "stdout"
        },
        {
          "output_type": "stream",
          "text": [
            "\r 25%|██▍       | 304/1225 [02:34<07:36,  2.02it/s]"
          ],
          "name": "stderr"
        },
        {
          "output_type": "stream",
          "text": [
            "\n",
            " Free  link:  https://www.credly.com/org/p-g/badge/p-g-carsx-practitioner\n"
          ],
          "name": "stdout"
        },
        {
          "output_type": "stream",
          "text": [
            "\r 25%|██▍       | 305/1225 [02:35<07:27,  2.06it/s]"
          ],
          "name": "stderr"
        },
        {
          "output_type": "stream",
          "text": [
            "\n",
            " Free  link:  https://www.credly.com/org/p-g/badge/p-g-cars-builder\n"
          ],
          "name": "stdout"
        },
        {
          "output_type": "stream",
          "text": [
            "\r 25%|██▍       | 306/1225 [02:35<07:18,  2.09it/s]"
          ],
          "name": "stderr"
        },
        {
          "output_type": "stream",
          "text": [
            "\n",
            " Free  link:  https://www.credly.com/org/p-g/badge/p-g-lean-innovation\n"
          ],
          "name": "stdout"
        },
        {
          "output_type": "stream",
          "text": [
            "\r 25%|██▌       | 307/1225 [02:36<07:56,  1.93it/s]"
          ],
          "name": "stderr"
        },
        {
          "output_type": "stream",
          "text": [
            "\n",
            " Free  link:  https://www.credly.com/org/p-g/badge/p-g-creatives-and-influencers\n"
          ],
          "name": "stdout"
        },
        {
          "output_type": "stream",
          "text": [
            "\r 25%|██▌       | 308/1225 [02:36<07:43,  1.98it/s]"
          ],
          "name": "stderr"
        },
        {
          "output_type": "stream",
          "text": [
            "\n",
            " Free  link:  https://www.credly.com/org/p-g/badge/sap-fundamentals-at-p-g\n"
          ],
          "name": "stdout"
        },
        {
          "output_type": "stream",
          "text": [
            "\r 25%|██▌       | 309/1225 [02:37<07:48,  1.96it/s]"
          ],
          "name": "stderr"
        },
        {
          "output_type": "stream",
          "text": [
            "\n",
            " Free  link:  https://www.credly.com/org/p-g/badge/p-g-sap-bw-foundational\n"
          ],
          "name": "stdout"
        },
        {
          "output_type": "stream",
          "text": [
            "\r 25%|██▌       | 310/1225 [02:37<08:12,  1.86it/s]"
          ],
          "name": "stderr"
        },
        {
          "output_type": "stream",
          "text": [
            "\n",
            " Free  link:  https://www.credly.com/org/p-g/badge/p-g-social-media-fundamentals\n"
          ],
          "name": "stdout"
        },
        {
          "output_type": "stream",
          "text": [
            "\r 25%|██▌       | 311/1225 [02:38<08:04,  1.89it/s]"
          ],
          "name": "stderr"
        },
        {
          "output_type": "stream",
          "text": [
            "\n",
            " Free  link:  https://www.credly.com/org/p-g/badge/p-g-digital-credentials-practitioner\n"
          ],
          "name": "stdout"
        },
        {
          "output_type": "stream",
          "text": [
            "\r 25%|██▌       | 312/1225 [02:38<08:49,  1.72it/s]"
          ],
          "name": "stderr"
        },
        {
          "output_type": "stream",
          "text": [
            "\n",
            " Free  link:  https://www.credly.com/org/p-g/badge/p-g-influencer-marketing-foundations\n"
          ],
          "name": "stdout"
        },
        {
          "output_type": "stream",
          "text": [
            "\r 26%|██▌       | 313/1225 [02:39<08:11,  1.85it/s]"
          ],
          "name": "stderr"
        },
        {
          "output_type": "stream",
          "text": [
            "\n",
            " Free  link:  https://www.credly.com/org/p-g/badge/p-g-performance-marketing-practitioner\n"
          ],
          "name": "stdout"
        },
        {
          "output_type": "stream",
          "text": [
            "\r 26%|██▌       | 314/1225 [02:39<07:46,  1.95it/s]"
          ],
          "name": "stderr"
        },
        {
          "output_type": "stream",
          "text": [
            "\n",
            " Free  link:  https://www.credly.com/org/p-g/badge/growth-mindset-practitioner-at-p-g.1\n"
          ],
          "name": "stdout"
        },
        {
          "output_type": "stream",
          "text": [
            "\r 26%|██▌       | 315/1225 [02:40<08:30,  1.78it/s]"
          ],
          "name": "stderr"
        },
        {
          "output_type": "stream",
          "text": [
            "\n",
            " Free  link:  https://www.credly.com/org/p-g/badge/p-g-performance-marketing-and-ecommerce\n"
          ],
          "name": "stdout"
        },
        {
          "output_type": "stream",
          "text": [
            "\r 26%|██▌       | 316/1225 [02:40<08:16,  1.83it/s]"
          ],
          "name": "stderr"
        },
        {
          "output_type": "stream",
          "text": [
            "\n",
            " Free  link:  https://www.credly.com/org/p-g/badge/p-g-data-and-analytics-foundations\n"
          ],
          "name": "stdout"
        },
        {
          "output_type": "stream",
          "text": [
            "\r 26%|██▌       | 317/1225 [02:41<07:51,  1.93it/s]"
          ],
          "name": "stderr"
        },
        {
          "output_type": "stream",
          "text": [
            "\n",
            " Free  link:  https://www.credly.com/org/p-g/badge/p-g-media-and-digital-fundamentals\n"
          ],
          "name": "stdout"
        },
        {
          "output_type": "stream",
          "text": [
            " 26%|██▌       | 319/1225 [02:42<07:32,  2.00it/s]"
          ],
          "name": "stderr"
        },
        {
          "output_type": "stream",
          "text": [
            "\n",
            " Free  link:  https://www.credly.com/org/p-g/badge/p-g-media-and-digital-intermediate\n"
          ],
          "name": "stdout"
        },
        {
          "output_type": "stream",
          "text": [
            " 26%|██▌       | 321/1225 [02:43<07:05,  2.12it/s]"
          ],
          "name": "stderr"
        },
        {
          "output_type": "stream",
          "text": [
            "\n",
            " Free  link:  https://www.credly.com/org/p-g/badge/p-g-business-process-automation-foundations\n"
          ],
          "name": "stdout"
        },
        {
          "output_type": "stream",
          "text": [
            " 26%|██▋       | 323/1225 [02:44<07:29,  2.01it/s]"
          ],
          "name": "stderr"
        },
        {
          "output_type": "stream",
          "text": [
            "\n",
            " Free  link:  https://www.credly.com/org/p-g/badge/p-g-canada-retailer-ecosystem-foundations\n"
          ],
          "name": "stdout"
        },
        {
          "output_type": "stream",
          "text": [
            "\r 26%|██▋       | 324/1225 [02:44<07:45,  1.94it/s]"
          ],
          "name": "stderr"
        },
        {
          "output_type": "stream",
          "text": [
            "\n",
            " Free  link:  https://www.credly.com/org/p-g/badge/p-g-crm-email-marketing-and-websites\n"
          ],
          "name": "stdout"
        },
        {
          "output_type": "stream",
          "text": [
            "\r 27%|██▋       | 325/1225 [02:45<07:50,  1.91it/s]"
          ],
          "name": "stderr"
        },
        {
          "output_type": "stream",
          "text": [
            "\n",
            " Free  link:  https://www.credly.com/org/p-g/badge/p-g-automated-data-transformation-expert\n"
          ],
          "name": "stdout"
        },
        {
          "output_type": "stream",
          "text": [
            "\r 27%|██▋       | 326/1225 [02:45<07:57,  1.88it/s]"
          ],
          "name": "stderr"
        },
        {
          "output_type": "stream",
          "text": [
            "\n",
            " Free  link:  https://www.credly.com/org/p-g/badge/p-g-automated-data-transformation-foundations\n"
          ],
          "name": "stdout"
        },
        {
          "output_type": "stream",
          "text": [
            "\r 27%|██▋       | 327/1225 [02:46<08:39,  1.73it/s]"
          ],
          "name": "stderr"
        },
        {
          "output_type": "stream",
          "text": [
            "\n",
            " Free  link:  https://www.credly.com/org/p-g/badge/p-g-digital-media-optimization-foundations\n"
          ],
          "name": "stdout"
        },
        {
          "output_type": "stream",
          "text": [
            "\r 27%|██▋       | 328/1225 [02:47<10:55,  1.37it/s]"
          ],
          "name": "stderr"
        },
        {
          "output_type": "stream",
          "text": [
            "\n",
            " Free  link:  https://www.credly.com/org/p-g/badge/p-g-digital-media-optimization-in-la\n"
          ],
          "name": "stdout"
        },
        {
          "output_type": "stream",
          "text": [
            "\r 27%|██▋       | 329/1225 [02:48<09:35,  1.56it/s]"
          ],
          "name": "stderr"
        },
        {
          "output_type": "stream",
          "text": [
            "\n",
            " Free  link:  https://www.credly.com/org/p-g/badge/p-g-project-management-foundations-for-f-a\n"
          ],
          "name": "stdout"
        },
        {
          "output_type": "stream",
          "text": [
            " 27%|██▋       | 332/1225 [02:49<08:17,  1.80it/s]"
          ],
          "name": "stderr"
        },
        {
          "output_type": "stream",
          "text": [
            "\n",
            " Free  link:  https://www.credly.com/org/micro-focus/badge/im-g-controlpoint-certified-presales-engineer-mfcpe\n"
          ],
          "name": "stdout"
        },
        {
          "output_type": "stream",
          "text": [
            " 27%|██▋       | 336/1225 [02:52<08:25,  1.76it/s]"
          ],
          "name": "stderr"
        },
        {
          "output_type": "stream",
          "text": [
            "\n",
            " Free  link:  https://www.credly.com/org/p-g/badge/p-g-project-management-foundations-for-brand-sales\n"
          ],
          "name": "stdout"
        },
        {
          "output_type": "stream",
          "text": [
            "\r 28%|██▊       | 337/1225 [02:52<08:20,  1.77it/s]"
          ],
          "name": "stderr"
        },
        {
          "output_type": "stream",
          "text": [
            "\n",
            " Free  link:  https://www.credly.com/org/p-g/badge/p-g-project-management-foundations-for-product-supply\n"
          ],
          "name": "stdout"
        },
        {
          "output_type": "stream",
          "text": [
            "\r 28%|██▊       | 338/1225 [02:53<07:37,  1.94it/s]"
          ],
          "name": "stderr"
        },
        {
          "output_type": "stream",
          "text": [
            "\n",
            " Free  link:  https://www.credly.com/org/p-g/badge/d-a-extended-devops-level-1-at-p-g\n"
          ],
          "name": "stdout"
        },
        {
          "output_type": "stream",
          "text": [
            "\r 28%|██▊       | 339/1225 [02:53<07:03,  2.09it/s]"
          ],
          "name": "stderr"
        },
        {
          "output_type": "stream",
          "text": [
            "\n",
            " Free  link:  https://www.credly.com/org/micro-focus/badge/im-g-content-manager-certified-presales-engineer-mfcpe\n"
          ],
          "name": "stdout"
        },
        {
          "output_type": "stream",
          "text": [
            " 28%|██▊       | 341/1225 [02:54<08:52,  1.66it/s]"
          ],
          "name": "stderr"
        },
        {
          "output_type": "stream",
          "text": [
            "\n",
            " Free  link:  https://www.credly.com/org/micro-focus/badge/im-g-customer-success-generalist-certified-sales-representative-mfcsr\n"
          ],
          "name": "stdout"
        },
        {
          "output_type": "stream",
          "text": [
            "\r 28%|██▊       | 342/1225 [02:55<08:14,  1.79it/s]"
          ],
          "name": "stderr"
        },
        {
          "output_type": "stream",
          "text": [
            "\n",
            " Free  link:  https://www.credly.com/org/p-g/badge/analise-e-ativacao-de-dados-data-analytics-and-activation-p-g-brasil\n"
          ],
          "name": "stdout"
        },
        {
          "output_type": "stream",
          "text": [
            " 29%|██▊       | 351/1225 [02:59<06:38,  2.20it/s]"
          ],
          "name": "stderr"
        },
        {
          "output_type": "stream",
          "text": [
            "\n",
            " Free  link:  https://www.credly.com/org/hawai-i-community-college-instructional-technology-support-office/badge/toolbox-h5p\n"
          ],
          "name": "stdout"
        },
        {
          "output_type": "stream",
          "text": [
            " 31%|███       | 374/1225 [03:10<06:42,  2.11it/s]"
          ],
          "name": "stderr"
        },
        {
          "output_type": "stream",
          "text": [
            "\n",
            " Free  link:  https://www.credly.com/org/fundacion-universitaria-los-libertadores/badge/ingles-i\n"
          ],
          "name": "stdout"
        },
        {
          "output_type": "stream",
          "text": [
            "\r 31%|███       | 375/1225 [03:11<06:51,  2.07it/s]"
          ],
          "name": "stderr"
        },
        {
          "output_type": "stream",
          "text": [
            "\n",
            " Free  link:  https://www.credly.com/org/auburn/badge/community-engaged-faculty-i-cef-i\n"
          ],
          "name": "stdout"
        },
        {
          "output_type": "stream",
          "text": [
            " 31%|███       | 381/1225 [03:14<06:22,  2.20it/s]"
          ],
          "name": "stderr"
        },
        {
          "output_type": "stream",
          "text": [
            "\n",
            " Free  link:  https://www.credly.com/org/ibm/badge/i-will\n"
          ],
          "name": "stdout"
        },
        {
          "output_type": "stream",
          "text": [
            " 31%|███▏      | 383/1225 [03:15<07:57,  1.76it/s]"
          ],
          "name": "stderr"
        },
        {
          "output_type": "stream",
          "text": [
            "\n",
            " Free  link:  https://www.credly.com/org/northern-arizona-university/badge/communication-essentials-i\n"
          ],
          "name": "stdout"
        },
        {
          "output_type": "stream",
          "text": [
            " 32%|███▏      | 392/1225 [03:19<06:34,  2.11it/s]"
          ],
          "name": "stderr"
        },
        {
          "output_type": "stream",
          "text": [
            "\n",
            " Free  link:  https://www.credly.com/org/northern-arizona-university/badge/effective-leadership-i\n"
          ],
          "name": "stdout"
        },
        {
          "output_type": "stream",
          "text": [
            " 32%|███▏      | 397/1225 [03:22<08:23,  1.64it/s]"
          ],
          "name": "stderr"
        },
        {
          "output_type": "stream",
          "text": [
            "\n",
            " Free  link:  https://www.credly.com/org/reach-cyber-charter-school/badge/career-explorer-i\n"
          ],
          "name": "stdout"
        },
        {
          "output_type": "stream",
          "text": [
            " 38%|███▊      | 471/1225 [04:02<07:07,  1.77it/s]"
          ],
          "name": "stderr"
        },
        {
          "output_type": "stream",
          "text": [
            "\n",
            " Free  link:  https://www.credly.com/org/ibm/badge/t-a-l-k-practitioner\n"
          ],
          "name": "stdout"
        },
        {
          "output_type": "stream",
          "text": [
            " 44%|████▎     | 535/1225 [04:35<05:43,  2.01it/s]"
          ],
          "name": "stderr"
        },
        {
          "output_type": "stream",
          "text": [
            "\n",
            " Free  link:  https://www.credly.com/org/ibm/badge/ibm-linuxone-technical-sales-l2\n"
          ],
          "name": "stdout"
        },
        {
          "output_type": "stream",
          "text": [
            " 44%|████▍     | 537/1225 [04:36<05:08,  2.23it/s]"
          ],
          "name": "stderr"
        },
        {
          "output_type": "stream",
          "text": [
            "\n",
            " Free  link:  https://www.credly.com/org/ibm/badge/t-a-l-k-practitioner\n"
          ],
          "name": "stdout"
        },
        {
          "output_type": "stream",
          "text": [
            " 44%|████▍     | 541/1225 [04:38<04:52,  2.34it/s]"
          ],
          "name": "stderr"
        },
        {
          "output_type": "stream",
          "text": [
            "\n",
            " Free  link:  https://www.credly.com/org/micro-focus/badge/itom-cms-l100-series-completion-badge\n"
          ],
          "name": "stdout"
        },
        {
          "output_type": "stream",
          "text": [
            "\r 44%|████▍     | 542/1225 [04:38<05:01,  2.27it/s]"
          ],
          "name": "stderr"
        },
        {
          "output_type": "stream",
          "text": [
            "\n",
            " Free  link:  https://www.credly.com/org/micro-focus/badge/itom-opsb-l100-series-completion-badge\n"
          ],
          "name": "stdout"
        },
        {
          "output_type": "stream",
          "text": [
            "\r 44%|████▍     | 543/1225 [04:39<05:16,  2.15it/s]"
          ],
          "name": "stderr"
        },
        {
          "output_type": "stream",
          "text": [
            "\n",
            " Free  link:  https://www.credly.com/org/micro-focus/badge/itom-rpa-l100-series-completion-badge\n"
          ],
          "name": "stdout"
        },
        {
          "output_type": "stream",
          "text": [
            " 53%|█████▎    | 645/1225 [05:30<05:54,  1.64it/s]"
          ],
          "name": "stderr"
        },
        {
          "output_type": "stream",
          "text": [
            "\n",
            " Free  link:  https://www.credly.com/org/universidad-externado-de-colombia/badge/microtaller-screencast-o-matic\n"
          ],
          "name": "stdout"
        },
        {
          "output_type": "stream",
          "text": [
            "\r 53%|█████▎    | 646/1225 [05:30<05:31,  1.75it/s]"
          ],
          "name": "stderr"
        },
        {
          "output_type": "stream",
          "text": [
            "\n",
            " Free  link:  https://www.credly.com/org/ibm/badge/ibm-f-o-internal-trainer\n"
          ],
          "name": "stdout"
        },
        {
          "output_type": "stream",
          "text": [
            "\r 53%|█████▎    | 647/1225 [05:31<05:17,  1.82it/s]"
          ],
          "name": "stderr"
        },
        {
          "output_type": "stream",
          "text": [
            "\n",
            " Free  link:  https://www.credly.com/org/hawai-i-community-college-instructional-technology-support-office/badge/toolbox-screencast-o-matic\n"
          ],
          "name": "stdout"
        },
        {
          "output_type": "stream",
          "text": [
            " 53%|█████▎    | 649/1225 [05:31<04:44,  2.02it/s]"
          ],
          "name": "stderr"
        },
        {
          "output_type": "stream",
          "text": [
            "\n",
            " Free  link:  https://www.credly.com/org/universidad-santo-tomas/badge/pasante-o-practicante-tomasino-destacado\n"
          ],
          "name": "stdout"
        },
        {
          "output_type": "stream",
          "text": [
            "\r 53%|█████▎    | 650/1225 [05:32<04:31,  2.12it/s]"
          ],
          "name": "stderr"
        },
        {
          "output_type": "stream",
          "text": [
            "\n",
            " Free  link:  https://www.credly.com/org/asociacion-colombiana-de-universidades/badge/presentacion-virtual-o-presencial-en-evento-ascun\n"
          ],
          "name": "stdout"
        },
        {
          "output_type": "stream",
          "text": [
            " 53%|█████▎    | 652/1225 [05:33<04:31,  2.11it/s]"
          ],
          "name": "stderr"
        },
        {
          "output_type": "stream",
          "text": [
            "\n",
            " Free  link:  https://www.credly.com/org/ibm/badge/f-o-cognitive-analytics-experience-data-analytics\n"
          ],
          "name": "stdout"
        },
        {
          "output_type": "stream",
          "text": [
            "\r 53%|█████▎    | 653/1225 [05:34<05:08,  1.85it/s]"
          ],
          "name": "stderr"
        },
        {
          "output_type": "stream",
          "text": [
            "\n",
            " Free  link:  https://www.credly.com/org/universidad-santo-tomas/badge/editor-de-revista-cientifica-o-academica-altamente-acreditada\n"
          ],
          "name": "stdout"
        },
        {
          "output_type": "stream",
          "text": [
            " 53%|█████▎    | 655/1225 [05:35<05:00,  1.90it/s]"
          ],
          "name": "stderr"
        },
        {
          "output_type": "stream",
          "text": [
            "\n",
            " Free  link:  https://www.credly.com/org/asociacion-colombiana-de-universidades/badge/coordinacion-nacional-o-internacional-estrategias-asociativas-ies\n"
          ],
          "name": "stdout"
        },
        {
          "output_type": "stream",
          "text": [
            " 56%|█████▌    | 688/1225 [05:53<05:27,  1.64it/s]"
          ],
          "name": "stderr"
        },
        {
          "output_type": "stream",
          "text": [
            "\n",
            " Free  link:  https://www.credly.com/org/acreditta/badge/aliado-en-el-6o-congreso-internacional-todos-trabajando-por-la-educacion-coneduq-2020\n"
          ],
          "name": "stdout"
        },
        {
          "output_type": "stream",
          "text": [
            " 56%|█████▋    | 690/1225 [05:54<04:43,  1.89it/s]"
          ],
          "name": "stderr"
        },
        {
          "output_type": "stream",
          "text": [
            "\n",
            " Free  link:  https://www.credly.com/org/oui-iohe-organizacion-universitaria-interamericana/badge/premio-interamericano-en-modelos-educativos-innovadores-en-educacion-superior-edicion-2020-2o-lugar\n"
          ],
          "name": "stdout"
        },
        {
          "output_type": "stream",
          "text": [
            " 57%|█████▋    | 693/1225 [05:55<04:18,  2.06it/s]"
          ],
          "name": "stderr"
        },
        {
          "output_type": "stream",
          "text": [
            "\n",
            " Free  link:  https://www.credly.com/org/acreditta/badge/ponente-tallerista-en-el-6o-congreso-internacional-todos-trabajando-por-la-educacion-coneduq-2020\n"
          ],
          "name": "stdout"
        },
        {
          "output_type": "stream",
          "text": [
            " 57%|█████▋    | 697/1225 [05:57<04:45,  1.85it/s]"
          ],
          "name": "stderr"
        },
        {
          "output_type": "stream",
          "text": [
            "\n",
            " Free  link:  https://www.credly.com/org/ibm/badge/p-tech-mentor\n"
          ],
          "name": "stdout"
        },
        {
          "output_type": "stream",
          "text": [
            "\r 57%|█████▋    | 698/1225 [05:58<05:18,  1.66it/s]"
          ],
          "name": "stderr"
        },
        {
          "output_type": "stream",
          "text": [
            "\n",
            " Free  link:  https://www.credly.com/org/p-g/badge/p-g-programmatic\n"
          ],
          "name": "stdout"
        },
        {
          "output_type": "stream",
          "text": [
            "\r 57%|█████▋    | 699/1225 [05:58<04:59,  1.75it/s]"
          ],
          "name": "stderr"
        },
        {
          "output_type": "stream",
          "text": [
            "\n",
            " Free  link:  https://www.credly.com/org/p-g/badge/p-g-cars-builder\n"
          ],
          "name": "stdout"
        },
        {
          "output_type": "stream",
          "text": [
            "\r 57%|█████▋    | 700/1225 [05:59<05:12,  1.68it/s]"
          ],
          "name": "stderr"
        },
        {
          "output_type": "stream",
          "text": [
            "\n",
            " Free  link:  https://www.credly.com/org/p-g/badge/p-g-carsx-practitioner\n"
          ],
          "name": "stdout"
        },
        {
          "output_type": "stream",
          "text": [
            " 57%|█████▋    | 702/1225 [06:00<04:50,  1.80it/s]"
          ],
          "name": "stderr"
        },
        {
          "output_type": "stream",
          "text": [
            "\n",
            " Free  link:  https://www.credly.com/org/p-g/badge/p-g-google-fundamentals\n"
          ],
          "name": "stdout"
        },
        {
          "output_type": "stream",
          "text": [
            "\r 57%|█████▋    | 703/1225 [06:01<05:01,  1.73it/s]"
          ],
          "name": "stderr"
        },
        {
          "output_type": "stream",
          "text": [
            "\n",
            " Free  link:  https://www.credly.com/org/p-g/badge/p-g-google-intermediate\n"
          ],
          "name": "stdout"
        },
        {
          "output_type": "stream",
          "text": [
            " 58%|█████▊    | 705/1225 [06:02<05:09,  1.68it/s]"
          ],
          "name": "stderr"
        },
        {
          "output_type": "stream",
          "text": [
            "\n",
            " Free  link:  https://www.credly.com/org/p-g/badge/p-g-lean-innovation\n"
          ],
          "name": "stdout"
        },
        {
          "output_type": "stream",
          "text": [
            "\r 58%|█████▊    | 706/1225 [06:02<04:40,  1.85it/s]"
          ],
          "name": "stderr"
        },
        {
          "output_type": "stream",
          "text": [
            "\n",
            " Free  link:  https://www.credly.com/org/p-g/badge/sap-fundamentals-at-p-g\n"
          ],
          "name": "stdout"
        },
        {
          "output_type": "stream",
          "text": [
            "\r 58%|█████▊    | 707/1225 [06:03<04:47,  1.80it/s]"
          ],
          "name": "stderr"
        },
        {
          "output_type": "stream",
          "text": [
            "\n",
            " Free  link:  https://www.credly.com/org/p-g/badge/p-g-digital-credentials-practitioner\n"
          ],
          "name": "stdout"
        },
        {
          "output_type": "stream",
          "text": [
            "\r 58%|█████▊    | 708/1225 [06:03<04:28,  1.93it/s]"
          ],
          "name": "stderr"
        },
        {
          "output_type": "stream",
          "text": [
            "\n",
            " Free  link:  https://www.credly.com/org/p-g/badge/p-g-influencer-marketing-foundations\n"
          ],
          "name": "stdout"
        },
        {
          "output_type": "stream",
          "text": [
            "\r 58%|█████▊    | 709/1225 [06:04<04:13,  2.04it/s]"
          ],
          "name": "stderr"
        },
        {
          "output_type": "stream",
          "text": [
            "\n",
            " Free  link:  https://www.credly.com/org/p-g/badge/p-g-performance-marketing-practitioner\n"
          ],
          "name": "stdout"
        },
        {
          "output_type": "stream",
          "text": [
            "\r 58%|█████▊    | 710/1225 [06:04<04:15,  2.01it/s]"
          ],
          "name": "stderr"
        },
        {
          "output_type": "stream",
          "text": [
            "\n",
            " Free  link:  https://www.credly.com/org/p-g/badge/p-g-creatives-and-influencers\n"
          ],
          "name": "stdout"
        },
        {
          "output_type": "stream",
          "text": [
            "\r 58%|█████▊    | 711/1225 [06:05<04:14,  2.02it/s]"
          ],
          "name": "stderr"
        },
        {
          "output_type": "stream",
          "text": [
            "\n",
            " Free  link:  https://www.credly.com/org/p-g/badge/p-g-social-media-fundamentals\n"
          ],
          "name": "stdout"
        },
        {
          "output_type": "stream",
          "text": [
            "\r 58%|█████▊    | 712/1225 [06:05<04:27,  1.92it/s]"
          ],
          "name": "stderr"
        },
        {
          "output_type": "stream",
          "text": [
            "\n",
            " Free  link:  https://www.credly.com/org/p-g/badge/growth-mindset-practitioner-at-p-g.1\n"
          ],
          "name": "stdout"
        },
        {
          "output_type": "stream",
          "text": [
            "\r 58%|█████▊    | 713/1225 [06:06<04:42,  1.81it/s]"
          ],
          "name": "stderr"
        },
        {
          "output_type": "stream",
          "text": [
            "\n",
            " Free  link:  https://www.credly.com/org/p-g/badge/p-g-performance-marketing-and-ecommerce\n"
          ],
          "name": "stdout"
        },
        {
          "output_type": "stream",
          "text": [
            "\r 58%|█████▊    | 714/1225 [06:06<04:18,  1.97it/s]"
          ],
          "name": "stderr"
        },
        {
          "output_type": "stream",
          "text": [
            "\n",
            " Free  link:  https://www.credly.com/org/p-g/badge/p-g-sap-bw-foundational\n"
          ],
          "name": "stdout"
        },
        {
          "output_type": "stream",
          "text": [
            "\r 58%|█████▊    | 715/1225 [06:07<04:17,  1.98it/s]"
          ],
          "name": "stderr"
        },
        {
          "output_type": "stream",
          "text": [
            "\n",
            " Free  link:  https://www.credly.com/org/p-g/badge/p-g-data-and-analytics-foundations\n"
          ],
          "name": "stdout"
        },
        {
          "output_type": "stream",
          "text": [
            "\r 58%|█████▊    | 716/1225 [06:07<04:05,  2.07it/s]"
          ],
          "name": "stderr"
        },
        {
          "output_type": "stream",
          "text": [
            "\n",
            " Free  link:  https://www.credly.com/org/p-g/badge/p-g-media-and-digital-fundamentals\n"
          ],
          "name": "stdout"
        },
        {
          "output_type": "stream",
          "text": [
            "\r 59%|█████▊    | 717/1225 [06:08<03:52,  2.18it/s]"
          ],
          "name": "stderr"
        },
        {
          "output_type": "stream",
          "text": [
            "\n",
            " Free  link:  https://www.credly.com/org/p-g/badge/p-g-business-process-automation-foundations\n"
          ],
          "name": "stdout"
        },
        {
          "output_type": "stream",
          "text": [
            "\r 59%|█████▊    | 718/1225 [06:08<03:51,  2.19it/s]"
          ],
          "name": "stderr"
        },
        {
          "output_type": "stream",
          "text": [
            "\n",
            " Free  link:  https://www.credly.com/org/p-g/badge/p-g-media-and-digital-intermediate\n"
          ],
          "name": "stdout"
        },
        {
          "output_type": "stream",
          "text": [
            "\r 59%|█████▊    | 719/1225 [06:09<03:47,  2.23it/s]"
          ],
          "name": "stderr"
        },
        {
          "output_type": "stream",
          "text": [
            "\n",
            " Free  link:  https://www.credly.com/org/p-g/badge/p-g-canada-retailer-ecosystem-foundations\n"
          ],
          "name": "stdout"
        },
        {
          "output_type": "stream",
          "text": [
            " 59%|█████▉    | 723/1225 [06:11<04:11,  1.99it/s]"
          ],
          "name": "stderr"
        },
        {
          "output_type": "stream",
          "text": [
            "\n",
            " Free  link:  https://www.credly.com/org/p-g/badge/p-g-automated-data-transformation-expert\n"
          ],
          "name": "stdout"
        },
        {
          "output_type": "stream",
          "text": [
            "\r 59%|█████▉    | 724/1225 [06:11<03:55,  2.13it/s]"
          ],
          "name": "stderr"
        },
        {
          "output_type": "stream",
          "text": [
            "\n",
            " Free  link:  https://www.credly.com/org/p-g/badge/p-g-automated-data-transformation-foundations\n"
          ],
          "name": "stdout"
        },
        {
          "output_type": "stream",
          "text": [
            "\r 59%|█████▉    | 725/1225 [06:12<04:02,  2.06it/s]"
          ],
          "name": "stderr"
        },
        {
          "output_type": "stream",
          "text": [
            "\n",
            " Free  link:  https://www.credly.com/org/p-g/badge/p-g-digital-media-optimization-foundations\n"
          ],
          "name": "stdout"
        },
        {
          "output_type": "stream",
          "text": [
            "\r 59%|█████▉    | 726/1225 [06:12<03:54,  2.13it/s]"
          ],
          "name": "stderr"
        },
        {
          "output_type": "stream",
          "text": [
            "\n",
            " Free  link:  https://www.credly.com/org/p-g/badge/p-g-crm-email-marketing-and-websites\n"
          ],
          "name": "stdout"
        },
        {
          "output_type": "stream",
          "text": [
            "\r 59%|█████▉    | 727/1225 [06:13<03:47,  2.18it/s]"
          ],
          "name": "stderr"
        },
        {
          "output_type": "stream",
          "text": [
            "\n",
            " Free  link:  https://www.credly.com/org/p-g/badge/p-g-project-management-foundations-for-f-a\n"
          ],
          "name": "stdout"
        },
        {
          "output_type": "stream",
          "text": [
            " 60%|█████▉    | 732/1225 [06:16<05:06,  1.61it/s]"
          ],
          "name": "stderr"
        },
        {
          "output_type": "stream",
          "text": [
            "\n",
            " Free  link:  https://www.credly.com/org/p-g/badge/p-g-digital-media-optimization-in-la\n"
          ],
          "name": "stdout"
        },
        {
          "output_type": "stream",
          "text": [
            " 60%|██████    | 738/1225 [06:18<03:43,  2.18it/s]"
          ],
          "name": "stderr"
        },
        {
          "output_type": "stream",
          "text": [
            "\n",
            " Free  link:  https://www.credly.com/org/p-g/badge/p-g-project-management-foundations-for-brand-sales\n"
          ],
          "name": "stdout"
        },
        {
          "output_type": "stream",
          "text": [
            " 60%|██████    | 740/1225 [06:20<05:18,  1.52it/s]"
          ],
          "name": "stderr"
        },
        {
          "output_type": "stream",
          "text": [
            "\n",
            " Free  link:  https://www.credly.com/org/p-g/badge/p-g-project-management-foundations-for-product-supply\n"
          ],
          "name": "stdout"
        },
        {
          "output_type": "stream",
          "text": [
            " 61%|██████    | 744/1225 [06:22<04:40,  1.72it/s]"
          ],
          "name": "stderr"
        },
        {
          "output_type": "stream",
          "text": [
            "\n",
            " Free  link:  https://www.credly.com/org/university-of-north-dakota/badge/scholarship-central-awarding-refresher-and-q-a-session\n"
          ],
          "name": "stdout"
        },
        {
          "output_type": "stream",
          "text": [
            "\r 61%|██████    | 745/1225 [06:23<05:07,  1.56it/s]"
          ],
          "name": "stderr"
        },
        {
          "output_type": "stream",
          "text": [
            "\n",
            " Free  link:  https://www.credly.com/org/ibm/badge/ibm-infosphere-data-replication-v11-4-sql-and-q-replication-advanced\n"
          ],
          "name": "stdout"
        },
        {
          "output_type": "stream",
          "text": [
            " 63%|██████▎   | 772/1225 [06:37<03:27,  2.18it/s]"
          ],
          "name": "stderr"
        },
        {
          "output_type": "stream",
          "text": [
            "\n",
            " Free  link:  https://www.credly.com/org/hp-university/badge/hp-personal-systems-services-q1-2021-learning-plan\n"
          ],
          "name": "stdout"
        },
        {
          "output_type": "stream",
          "text": [
            " 63%|██████▎   | 774/1225 [06:38<03:22,  2.22it/s]"
          ],
          "name": "stderr"
        },
        {
          "output_type": "stream",
          "text": [
            "\n",
            " Free  link:  https://www.credly.com/org/ibm/badge/ibm-research-skill-growth-initiative\n"
          ],
          "name": "stdout"
        },
        {
          "output_type": "stream",
          "text": [
            " 63%|██████▎   | 777/1225 [06:40<03:39,  2.04it/s]"
          ],
          "name": "stderr"
        },
        {
          "output_type": "stream",
          "text": [
            "\n",
            " Free  link:  https://www.credly.com/org/ibm/badge/r-essentials\n"
          ],
          "name": "stdout"
        },
        {
          "output_type": "stream",
          "text": [
            " 65%|██████▍   | 791/1225 [06:48<04:02,  1.79it/s]"
          ],
          "name": "stderr"
        },
        {
          "output_type": "stream",
          "text": [
            "\n",
            " Free  link:  https://www.credly.com/org/ibm/badge/using-r-with-databases\n"
          ],
          "name": "stdout"
        },
        {
          "output_type": "stream",
          "text": [
            " 65%|██████▍   | 795/1225 [06:50<03:44,  1.92it/s]"
          ],
          "name": "stderr"
        },
        {
          "output_type": "stream",
          "text": [
            "\n",
            " Free  link:  https://www.credly.com/org/ibm/badge/data-visualization-with-r\n"
          ],
          "name": "stdout"
        },
        {
          "output_type": "stream",
          "text": [
            " 65%|██████▌   | 801/1225 [06:53<03:21,  2.10it/s]"
          ],
          "name": "stderr"
        },
        {
          "output_type": "stream",
          "text": [
            "\n",
            " Free  link:  https://www.credly.com/org/beenleigh-state-high-school/badge/gold-pat-r-badge\n"
          ],
          "name": "stdout"
        },
        {
          "output_type": "stream",
          "text": [
            "\r 65%|██████▌   | 802/1225 [06:53<03:20,  2.11it/s]"
          ],
          "name": "stderr"
        },
        {
          "output_type": "stream",
          "text": [
            "\n",
            " Free  link:  https://www.credly.com/org/beenleigh-state-high-school/badge/bronze-pat-r-badge\n"
          ],
          "name": "stdout"
        },
        {
          "output_type": "stream",
          "text": [
            "\r 66%|██████▌   | 803/1225 [06:54<03:25,  2.06it/s]"
          ],
          "name": "stderr"
        },
        {
          "output_type": "stream",
          "text": [
            "\n",
            " Free  link:  https://www.credly.com/org/beenleigh-state-high-school/badge/silver-pat-r-badge\n"
          ],
          "name": "stdout"
        },
        {
          "output_type": "stream",
          "text": [
            " 67%|██████▋   | 826/1225 [07:06<03:21,  1.98it/s]"
          ],
          "name": "stderr"
        },
        {
          "output_type": "stream",
          "text": [
            "\n",
            " Free  link:  https://www.credly.com/org/bayer-andina/badge/in-projects-drone-s-spraying.1\n"
          ],
          "name": "stdout"
        },
        {
          "output_type": "stream",
          "text": [
            "\r 68%|██████▊   | 827/1225 [07:06<03:09,  2.10it/s]"
          ],
          "name": "stderr"
        },
        {
          "output_type": "stream",
          "text": [
            "\n",
            " Free  link:  https://www.credly.com/org/bayer-andina/badge/in-projects-drone-s-spraying.2\n"
          ],
          "name": "stdout"
        },
        {
          "output_type": "stream",
          "text": [
            " 68%|██████▊   | 835/1225 [07:10<03:03,  2.12it/s]"
          ],
          "name": "stderr"
        },
        {
          "output_type": "stream",
          "text": [
            "\n",
            " Free  link:  https://www.credly.com/org/bayer-andina/badge/in-projects-drone-s-spraying\n"
          ],
          "name": "stdout"
        },
        {
          "output_type": "stream",
          "text": [
            " 72%|███████▏  | 881/1225 [07:34<03:14,  1.77it/s]"
          ],
          "name": "stderr"
        },
        {
          "output_type": "stream",
          "text": [
            "\n",
            " Free  link:  https://www.credly.com/org/volkswagen-australia/badge/volkswagen-t-cross-product-expert\n"
          ],
          "name": "stdout"
        },
        {
          "output_type": "stream",
          "text": [
            "\r 72%|███████▏  | 882/1225 [07:34<03:11,  1.79it/s]"
          ],
          "name": "stderr"
        },
        {
          "output_type": "stream",
          "text": [
            "\n",
            " Free  link:  https://www.credly.com/org/volkswagen-australia/badge/volkswagen-t-cross-technical-expert\n"
          ],
          "name": "stdout"
        },
        {
          "output_type": "stream",
          "text": [
            "\r 72%|███████▏  | 883/1225 [07:35<02:59,  1.91it/s]"
          ],
          "name": "stderr"
        },
        {
          "output_type": "stream",
          "text": [
            "\n",
            " Free  link:  https://www.credly.com/org/att-summer-learning-academy/badge/at-t-summer-learning-academy-extern\n"
          ],
          "name": "stdout"
        },
        {
          "output_type": "stream",
          "text": [
            "\r 72%|███████▏  | 884/1225 [07:35<02:57,  1.92it/s]"
          ],
          "name": "stderr"
        },
        {
          "output_type": "stream",
          "text": [
            "\n",
            " Free  link:  https://www.credly.com/org/volkswagen-australia/badge/volkswagen-t-roc-product-expert\n"
          ],
          "name": "stdout"
        },
        {
          "output_type": "stream",
          "text": [
            "\r 72%|███████▏  | 885/1225 [07:36<03:11,  1.78it/s]"
          ],
          "name": "stderr"
        },
        {
          "output_type": "stream",
          "text": [
            "\n",
            " Free  link:  https://www.credly.com/org/volkswagen-australia/badge/volkswagen-t-roc-technical-expert\n"
          ],
          "name": "stdout"
        },
        {
          "output_type": "stream",
          "text": [
            "\r 72%|███████▏  | 886/1225 [07:36<03:23,  1.67it/s]"
          ],
          "name": "stderr"
        },
        {
          "output_type": "stream",
          "text": [
            "\n",
            " Free  link:  https://www.credly.com/org/att-summer-learning-academy/badge/2021-at-t-summer-learning-academy-extern\n"
          ],
          "name": "stdout"
        },
        {
          "output_type": "stream",
          "text": [
            " 72%|███████▏  | 888/1225 [07:37<02:46,  2.03it/s]"
          ],
          "name": "stderr"
        },
        {
          "output_type": "stream",
          "text": [
            "\n",
            " Free  link:  https://www.credly.com/org/missouri-state-university/badge/2014-help-desk-t-shirt-design-winner\n"
          ],
          "name": "stdout"
        },
        {
          "output_type": "stream",
          "text": [
            " 74%|███████▍  | 905/1225 [07:46<02:45,  1.93it/s]"
          ],
          "name": "stderr"
        },
        {
          "output_type": "stream",
          "text": [
            "\n",
            " Free  link:  https://www.credly.com/org/ansys/badge/ansys-course-completion-a-four-point-bend-test-on-a-t-beam\n"
          ],
          "name": "stdout"
        },
        {
          "output_type": "stream",
          "text": [
            " 76%|███████▌  | 931/1225 [07:59<02:09,  2.27it/s]"
          ],
          "name": "stderr"
        },
        {
          "output_type": "stream",
          "text": [
            "\n",
            " Free  link:  https://www.credly.com/org/pvh/badge/pvh-u-ambassador\n"
          ],
          "name": "stdout"
        },
        {
          "output_type": "stream",
          "text": [
            " 77%|███████▋  | 938/1225 [08:02<02:08,  2.23it/s]"
          ],
          "name": "stderr"
        },
        {
          "output_type": "stream",
          "text": [
            "\n",
            " Free  link:  https://www.credly.com/org/justiceu/badge/justice-u-human-trafficking-awareness-badge\n"
          ],
          "name": "stdout"
        },
        {
          "output_type": "stream",
          "text": [
            " 78%|███████▊  | 951/1225 [08:09<02:19,  1.96it/s]"
          ],
          "name": "stderr"
        },
        {
          "output_type": "stream",
          "text": [
            "\n",
            " Free  link:  https://www.credly.com/org/justiceu/badge/justice-u-certification-csec-essential-knowledge-for-case-managers-in-georgia\n"
          ],
          "name": "stdout"
        },
        {
          "output_type": "stream",
          "text": [
            "\r 78%|███████▊  | 952/1225 [08:09<02:24,  1.89it/s]"
          ],
          "name": "stderr"
        },
        {
          "output_type": "stream",
          "text": [
            "\n",
            " Free  link:  https://www.credly.com/org/justiceu/badge/justice-u-certification-csec-essential-knowledge-for-healthcare-professionals-in-georgia\n"
          ],
          "name": "stdout"
        },
        {
          "output_type": "stream",
          "text": [
            " 78%|███████▊  | 958/1225 [08:13<02:42,  1.64it/s]"
          ],
          "name": "stderr"
        },
        {
          "output_type": "stream",
          "text": [
            "\n",
            " Free  link:  https://www.credly.com/org/justiceu/badge/justice-u-commercial-sexual-exploitation-of-children-csec-awareness-for-georgia-badge\n"
          ],
          "name": "stdout"
        },
        {
          "output_type": "stream",
          "text": [
            "\r 78%|███████▊  | 959/1225 [08:14<02:35,  1.71it/s]"
          ],
          "name": "stderr"
        },
        {
          "output_type": "stream",
          "text": [
            "\n",
            " Free  link:  https://www.credly.com/org/justiceu/badge/justice-u-certification-csec-essential-knowledge-for-behavioral-health-providers-in-georgia\n"
          ],
          "name": "stdout"
        },
        {
          "output_type": "stream",
          "text": [
            "\r 78%|███████▊  | 960/1225 [08:14<02:25,  1.82it/s]"
          ],
          "name": "stderr"
        },
        {
          "output_type": "stream",
          "text": [
            "\n",
            " Free  link:  https://www.credly.com/org/justiceu/badge/justice-u-certification-csec-essential-knowledge-for-group-home-professionals-in-georgia\n"
          ],
          "name": "stdout"
        },
        {
          "output_type": "stream",
          "text": [
            " 79%|███████▊  | 963/1225 [08:16<02:30,  1.74it/s]"
          ],
          "name": "stderr"
        },
        {
          "output_type": "stream",
          "text": [
            "\n",
            " Free  link:  https://www.credly.com/org/justiceu/badge/justice-u-certification-csec-essential-knowledge-for-educators-school-personnel-in-georgia\n"
          ],
          "name": "stdout"
        },
        {
          "output_type": "stream",
          "text": [
            " 79%|███████▉  | 965/1225 [08:17<02:08,  2.02it/s]"
          ],
          "name": "stderr"
        },
        {
          "output_type": "stream",
          "text": [
            "\n",
            " Free  link:  https://www.credly.com/org/justiceu/badge/justice-u-certification-csec-essential-knowledge-for-juvenile-justice-professionals-in-georgia\n"
          ],
          "name": "stdout"
        },
        {
          "output_type": "stream",
          "text": [
            " 79%|███████▉  | 968/1225 [08:18<02:12,  1.93it/s]"
          ],
          "name": "stderr"
        },
        {
          "output_type": "stream",
          "text": [
            "\n",
            " Free  link:  https://www.credly.com/org/justiceu/badge/justice-u-certification-csec-essential-knowledge-for-community-organizations-and-advocates-in-georgia\n"
          ],
          "name": "stdout"
        },
        {
          "output_type": "stream",
          "text": [
            " 80%|███████▉  | 975/1225 [08:22<02:10,  1.92it/s]"
          ],
          "name": "stderr"
        },
        {
          "output_type": "stream",
          "text": [
            "\n",
            " Free  link:  https://www.credly.com/org/justiceu/badge/justice-u-certification-csec-essential-knowledge-for-foster-care-adoptive-families-associations-in-georgia\n"
          ],
          "name": "stdout"
        },
        {
          "output_type": "stream",
          "text": [
            " 80%|███████▉  | 979/1225 [08:25<02:25,  1.70it/s]"
          ],
          "name": "stderr"
        },
        {
          "output_type": "stream",
          "text": [
            "\n",
            " Free  link:  https://www.credly.com/org/techo-bogota/badge/plan-v-finalizado\n"
          ],
          "name": "stdout"
        },
        {
          "output_type": "stream",
          "text": [
            " 81%|████████  | 993/1225 [08:32<02:00,  1.92it/s]"
          ],
          "name": "stderr"
        },
        {
          "output_type": "stream",
          "text": [
            "\n",
            " Free  link:  https://www.credly.com/org/ensena-por-colombia/badge/trabajo-con-otros-v\n"
          ],
          "name": "stdout"
        },
        {
          "output_type": "stream",
          "text": [
            "\r 81%|████████  | 994/1225 [08:33<01:59,  1.94it/s]"
          ],
          "name": "stderr"
        },
        {
          "output_type": "stream",
          "text": [
            "\n",
            " Free  link:  https://www.credly.com/org/ensena-por-colombia/badge/aprendizaje-y-desarrollo-v\n"
          ],
          "name": "stdout"
        },
        {
          "output_type": "stream",
          "text": [
            "\r 81%|████████  | 995/1225 [08:33<01:57,  1.96it/s]"
          ],
          "name": "stderr"
        },
        {
          "output_type": "stream",
          "text": [
            "\n",
            " Free  link:  https://www.credly.com/org/ensena-por-colombia/badge/curriculo-y-planeacion-v\n"
          ],
          "name": "stdout"
        },
        {
          "output_type": "stream",
          "text": [
            " 84%|████████▍ | 1027/1225 [08:50<01:51,  1.77it/s]"
          ],
          "name": "stderr"
        },
        {
          "output_type": "stream",
          "text": [
            "\n",
            " Free  link:  https://www.credly.com/org/bci/badge/especialista-transformacion-w-ib\n"
          ],
          "name": "stdout"
        },
        {
          "output_type": "stream",
          "text": [
            " 89%|████████▉ | 1092/1225 [09:22<01:01,  2.16it/s]"
          ],
          "name": "stderr"
        },
        {
          "output_type": "stream",
          "text": [
            "\n",
            " Free  link:  https://www.credly.com/org/ibm/badge/ibm-storediq-v7-x\n"
          ],
          "name": "stdout"
        },
        {
          "output_type": "stream",
          "text": [
            "\r 89%|████████▉ | 1093/1225 [09:23<01:05,  2.01it/s]"
          ],
          "name": "stderr"
        },
        {
          "output_type": "stream",
          "text": [
            "\n",
            " Free  link:  https://www.credly.com/org/alley/badge/marketing-fiu-x-alley\n"
          ],
          "name": "stdout"
        },
        {
          "output_type": "stream",
          "text": [
            " 89%|████████▉ | 1095/1225 [09:23<01:04,  2.03it/s]"
          ],
          "name": "stderr"
        },
        {
          "output_type": "stream",
          "text": [
            "\n",
            " Free  link:  https://www.credly.com/org/alley/badge/sustainability-fiu-x-alley\n"
          ],
          "name": "stdout"
        },
        {
          "output_type": "stream",
          "text": [
            " 90%|████████▉ | 1097/1225 [09:24<00:59,  2.14it/s]"
          ],
          "name": "stderr"
        },
        {
          "output_type": "stream",
          "text": [
            "\n",
            " Free  link:  https://www.credly.com/org/alley/badge/guest-experience-fiu-x-alley\n"
          ],
          "name": "stdout"
        },
        {
          "output_type": "stream",
          "text": [
            "\r 90%|████████▉ | 1098/1225 [09:25<01:02,  2.05it/s]"
          ],
          "name": "stderr"
        },
        {
          "output_type": "stream",
          "text": [
            "\n",
            " Free  link:  https://www.credly.com/org/ibm/badge/ibm-storediq-v7-x-administrator\n"
          ],
          "name": "stdout"
        },
        {
          "output_type": "stream",
          "text": [
            "\r 90%|████████▉ | 1099/1225 [09:26<01:10,  1.79it/s]"
          ],
          "name": "stderr"
        },
        {
          "output_type": "stream",
          "text": [
            "\n",
            " Free  link:  https://www.credly.com/org/ibm/badge/ibm-streams-v4-2-x-essentials\n"
          ],
          "name": "stdout"
        },
        {
          "output_type": "stream",
          "text": [
            "\r 90%|████████▉ | 1100/1225 [09:26<01:08,  1.84it/s]"
          ],
          "name": "stderr"
        },
        {
          "output_type": "stream",
          "text": [
            "\n",
            " Free  link:  https://www.credly.com/org/ibm/badge/ibm-cloudant-local-v1-1-x\n"
          ],
          "name": "stdout"
        },
        {
          "output_type": "stream",
          "text": [
            "\r 90%|████████▉ | 1101/1225 [09:27<01:12,  1.70it/s]"
          ],
          "name": "stderr"
        },
        {
          "output_type": "stream",
          "text": [
            "\n",
            " Free  link:  https://www.credly.com/org/alley/badge/data-analytics-fiu-x-alley\n"
          ],
          "name": "stdout"
        },
        {
          "output_type": "stream",
          "text": [
            "\r 90%|████████▉ | 1102/1225 [09:28<01:23,  1.47it/s]"
          ],
          "name": "stderr"
        },
        {
          "output_type": "stream",
          "text": [
            "\n",
            " Free  link:  https://www.credly.com/org/ibm/badge/decision-optimization-center-v3-x\n"
          ],
          "name": "stdout"
        },
        {
          "output_type": "stream",
          "text": [
            "\r 90%|█████████ | 1103/1225 [09:28<01:17,  1.58it/s]"
          ],
          "name": "stderr"
        },
        {
          "output_type": "stream",
          "text": [
            "\n",
            " Free  link:  https://www.credly.com/org/ibm/badge/ibm-big-sql-v5-0-x\n"
          ],
          "name": "stdout"
        },
        {
          "output_type": "stream",
          "text": [
            "\r 90%|█████████ | 1104/1225 [09:29<01:11,  1.69it/s]"
          ],
          "name": "stderr"
        },
        {
          "output_type": "stream",
          "text": [
            "\n",
            " Free  link:  https://www.credly.com/org/ibm/badge/ibm-db2-warehouse-v11-x\n"
          ],
          "name": "stdout"
        },
        {
          "output_type": "stream",
          "text": [
            " 90%|█████████ | 1107/1225 [09:30<00:56,  2.10it/s]"
          ],
          "name": "stderr"
        },
        {
          "output_type": "stream",
          "text": [
            "\n",
            " Free  link:  https://www.credly.com/org/ibm/badge/ibm-datastage-v11-5-x-configuration.1\n"
          ],
          "name": "stdout"
        },
        {
          "output_type": "stream",
          "text": [
            "\r 90%|█████████ | 1108/1225 [09:31<01:07,  1.73it/s]"
          ],
          "name": "stderr"
        },
        {
          "output_type": "stream",
          "text": [
            "\n",
            " Free  link:  https://www.credly.com/org/ibm/badge/ibm-datastage-v11-5-x-developer\n"
          ],
          "name": "stdout"
        },
        {
          "output_type": "stream",
          "text": [
            "\r 91%|█████████ | 1109/1225 [09:31<01:05,  1.77it/s]"
          ],
          "name": "stderr"
        },
        {
          "output_type": "stream",
          "text": [
            "\n",
            " Free  link:  https://www.credly.com/org/ibm/badge/ibm-datastage-v11-5-x-optimization\n"
          ],
          "name": "stdout"
        },
        {
          "output_type": "stream",
          "text": [
            " 91%|█████████ | 1111/1225 [09:32<01:06,  1.71it/s]"
          ],
          "name": "stderr"
        },
        {
          "output_type": "stream",
          "text": [
            "\n",
            " Free  link:  https://www.credly.com/org/ibm/badge/mdm-v11-5-x-on-cloud-infrastructure\n"
          ],
          "name": "stdout"
        },
        {
          "output_type": "stream",
          "text": [
            " 91%|█████████ | 1116/1225 [09:36<01:04,  1.69it/s]"
          ],
          "name": "stderr"
        },
        {
          "output_type": "stream",
          "text": [
            "\n",
            " Free  link:  https://www.credly.com/org/ibm/badge/apache-spark-on-cloud-v2-0-x\n"
          ],
          "name": "stdout"
        },
        {
          "output_type": "stream",
          "text": [
            " 92%|█████████▏| 1122/1225 [09:38<00:52,  1.94it/s]"
          ],
          "name": "stderr"
        },
        {
          "output_type": "stream",
          "text": [
            "\n",
            " Free  link:  https://www.credly.com/org/micro-focus/badge/vertica-certified-professional-essentials-9-x\n"
          ],
          "name": "stdout"
        },
        {
          "output_type": "stream",
          "text": [
            " 92%|█████████▏| 1128/1225 [09:41<00:46,  2.10it/s]"
          ],
          "name": "stderr"
        },
        {
          "output_type": "stream",
          "text": [
            "\n",
            " Free  link:  https://www.credly.com/org/fundacion-universitaria-los-libertadores/badge/franquicias-y-catering\n"
          ],
          "name": "stdout"
        },
        {
          "output_type": "stream",
          "text": [
            "\r 92%|█████████▏| 1129/1225 [09:42<00:46,  2.06it/s]"
          ],
          "name": "stderr"
        },
        {
          "output_type": "stream",
          "text": [
            "\n",
            " Free  link:  https://www.credly.com/org/fundacion-universitaria-los-libertadores/badge/ludica-y-didactica\n"
          ],
          "name": "stdout"
        },
        {
          "output_type": "stream",
          "text": [
            " 93%|█████████▎| 1137/1225 [09:45<00:42,  2.05it/s]"
          ],
          "name": "stderr"
        },
        {
          "output_type": "stream",
          "text": [
            "\n",
            " Free  link:  https://www.credly.com/org/espol-escuela-superior-politecnica-del-litoral/badge/interaccion-y-comunicacion\n"
          ],
          "name": "stdout"
        },
        {
          "output_type": "stream",
          "text": [
            "\r 93%|█████████▎| 1138/1225 [09:46<00:42,  2.05it/s]"
          ],
          "name": "stderr"
        },
        {
          "output_type": "stream",
          "text": [
            "\n",
            " Free  link:  https://www.credly.com/org/espol-escuela-superior-politecnica-del-litoral/badge/liderazgo-y-autoagencia\n"
          ],
          "name": "stdout"
        },
        {
          "output_type": "stream",
          "text": [
            "\r 93%|█████████▎| 1139/1225 [09:47<00:47,  1.83it/s]"
          ],
          "name": "stderr"
        },
        {
          "output_type": "stream",
          "text": [
            "\n",
            " Free  link:  https://www.credly.com/org/el-puerto-de-liverpool/badge/servicio-y-ventas\n"
          ],
          "name": "stdout"
        },
        {
          "output_type": "stream",
          "text": [
            "\r 93%|█████████▎| 1140/1225 [09:47<00:45,  1.86it/s]"
          ],
          "name": "stderr"
        },
        {
          "output_type": "stream",
          "text": [
            "\n",
            " Free  link:  https://www.credly.com/org/fundacion-universitaria-los-libertadores/badge/comunicacion-y-expresion\n"
          ],
          "name": "stdout"
        },
        {
          "output_type": "stream",
          "text": [
            " 93%|█████████▎| 1144/1225 [09:49<00:39,  2.06it/s]"
          ],
          "name": "stderr"
        },
        {
          "output_type": "stream",
          "text": [
            "\n",
            " Free  link:  https://www.credly.com/org/colsubsidio/badge/prevencion-y-cuidado\n"
          ],
          "name": "stdout"
        },
        {
          "output_type": "stream",
          "text": [
            "\r 93%|█████████▎| 1145/1225 [09:49<00:37,  2.11it/s]"
          ],
          "name": "stderr"
        },
        {
          "output_type": "stream",
          "text": [
            "\n",
            " Free  link:  https://www.credly.com/org/el-puerto-de-liverpool/badge/servicio-y-ventas-2021\n"
          ],
          "name": "stdout"
        },
        {
          "output_type": "stream",
          "text": [
            " 94%|█████████▎| 1148/1225 [09:51<00:39,  1.96it/s]"
          ],
          "name": "stderr"
        },
        {
          "output_type": "stream",
          "text": [
            "\n",
            " Free  link:  https://www.credly.com/org/ensena-por-colombia/badge/curriculo-y-planeacion-ii\n"
          ],
          "name": "stdout"
        },
        {
          "output_type": "stream",
          "text": [
            " 94%|█████████▍| 1153/1225 [09:53<00:34,  2.07it/s]"
          ],
          "name": "stderr"
        },
        {
          "output_type": "stream",
          "text": [
            "\n",
            " Free  link:  https://www.credly.com/org/ensena-por-colombia/badge/aprendizaje-y-desarrollo-iv\n"
          ],
          "name": "stdout"
        },
        {
          "output_type": "stream",
          "text": [
            "\r 94%|█████████▍| 1154/1225 [09:54<00:33,  2.09it/s]"
          ],
          "name": "stderr"
        },
        {
          "output_type": "stream",
          "text": [
            "\n",
            " Free  link:  https://www.credly.com/org/espol-escuela-superior-politecnica-del-litoral/badge/creatividad-innovacion-y-emprendimiento\n"
          ],
          "name": "stdout"
        },
        {
          "output_type": "stream",
          "text": [
            " 94%|█████████▍| 1157/1225 [09:55<00:31,  2.16it/s]"
          ],
          "name": "stderr"
        },
        {
          "output_type": "stream",
          "text": [
            "\n",
            " Free  link:  https://www.credly.com/org/ensena-por-colombia/badge/aprendizaje-y-desarrollo-v\n"
          ],
          "name": "stdout"
        },
        {
          "output_type": "stream",
          "text": [
            " 95%|█████████▍| 1159/1225 [09:56<00:28,  2.29it/s]"
          ],
          "name": "stderr"
        },
        {
          "output_type": "stream",
          "text": [
            "\n",
            " Free  link:  https://www.credly.com/org/ensena-por-colombia/badge/curriculo-y-planeacion-v\n"
          ],
          "name": "stdout"
        },
        {
          "output_type": "stream",
          "text": [
            "\r 95%|█████████▍| 1160/1225 [09:56<00:29,  2.20it/s]"
          ],
          "name": "stderr"
        },
        {
          "output_type": "stream",
          "text": [
            "\n",
            " Free  link:  https://www.credly.com/org/universidad-santo-tomas/badge/literatura-cultura-y-sociedad\n"
          ],
          "name": "stdout"
        },
        {
          "output_type": "stream",
          "text": [
            " 95%|█████████▌| 1165/1225 [09:59<00:31,  1.91it/s]"
          ],
          "name": "stderr"
        },
        {
          "output_type": "stream",
          "text": [
            "\n",
            " Free  link:  https://www.credly.com/org/ensena-por-colombia/badge/aprendizaje-y-desarrollo-ii\n"
          ],
          "name": "stdout"
        },
        {
          "output_type": "stream",
          "text": [
            "\r 95%|█████████▌| 1166/1225 [10:00<00:35,  1.66it/s]"
          ],
          "name": "stderr"
        },
        {
          "output_type": "stream",
          "text": [
            "\n",
            " Free  link:  https://www.credly.com/org/ensena-por-colombia/badge/curriculo-y-planeacion-iv\n"
          ],
          "name": "stdout"
        },
        {
          "output_type": "stream",
          "text": [
            " 96%|█████████▌| 1170/1225 [10:02<00:28,  1.91it/s]"
          ],
          "name": "stderr"
        },
        {
          "output_type": "stream",
          "text": [
            "\n",
            " Free  link:  https://www.credly.com/org/recaudo-bogota-s-a-s/badge/gobierno-corporativo-y-administrativa\n"
          ],
          "name": "stdout"
        },
        {
          "output_type": "stream",
          "text": [
            " 96%|█████████▌| 1173/1225 [10:04<00:24,  2.11it/s]"
          ],
          "name": "stderr"
        },
        {
          "output_type": "stream",
          "text": [
            "\n",
            " Free  link:  https://www.credly.com/org/ensena-por-colombia/badge/aprendizaje-y-desarrollo-iii\n"
          ],
          "name": "stdout"
        },
        {
          "output_type": "stream",
          "text": [
            " 96%|█████████▌| 1176/1225 [10:05<00:20,  2.35it/s]"
          ],
          "name": "stderr"
        },
        {
          "output_type": "stream",
          "text": [
            "\n",
            " Free  link:  https://www.credly.com/org/east-noble-school-corporation/badge/science-a-z\n"
          ],
          "name": "stdout"
        },
        {
          "output_type": "stream",
          "text": [
            "\r 96%|█████████▌| 1177/1225 [10:05<00:20,  2.31it/s]"
          ],
          "name": "stderr"
        },
        {
          "output_type": "stream",
          "text": [
            "\n",
            " Free  link:  https://www.credly.com/org/ibm/badge/ibm-z-security.2\n"
          ],
          "name": "stdout"
        },
        {
          "output_type": "stream",
          "text": [
            "\r 96%|█████████▌| 1178/1225 [10:06<00:21,  2.15it/s]"
          ],
          "name": "stderr"
        },
        {
          "output_type": "stream",
          "text": [
            "\n",
            " Free  link:  https://www.credly.com/org/ibm/badge/ibm-z-resiliency\n"
          ],
          "name": "stdout"
        },
        {
          "output_type": "stream",
          "text": [
            "\r 96%|█████████▌| 1179/1225 [10:06<00:21,  2.14it/s]"
          ],
          "name": "stderr"
        },
        {
          "output_type": "stream",
          "text": [
            "\n",
            " Free  link:  https://www.credly.com/org/ibm/badge/ibm-z-foundations.1\n"
          ],
          "name": "stdout"
        },
        {
          "output_type": "stream",
          "text": [
            " 96%|█████████▋| 1181/1225 [10:07<00:20,  2.12it/s]"
          ],
          "name": "stderr"
        },
        {
          "output_type": "stream",
          "text": [
            "\n",
            " Free  link:  https://www.credly.com/org/ibm/badge/introduction-to-z-os-commands-and-panels-on-ibm-z\n"
          ],
          "name": "stdout"
        },
        {
          "output_type": "stream",
          "text": [
            "\r 96%|█████████▋| 1182/1225 [10:08<00:20,  2.13it/s]"
          ],
          "name": "stderr"
        },
        {
          "output_type": "stream",
          "text": [
            "\n",
            " Free  link:  https://www.credly.com/org/ibm/badge/introduction-to-z-os-commands-and-panels-on-ibm-z.1\n"
          ],
          "name": "stdout"
        },
        {
          "output_type": "stream",
          "text": [
            " 97%|█████████▋| 1190/1225 [10:12<00:18,  1.84it/s]"
          ],
          "name": "stderr"
        },
        {
          "output_type": "stream",
          "text": [
            "\n",
            " Free  link:  https://www.credly.com/org/ibm/badge/architecting-applications-with-ibm-z\n"
          ],
          "name": "stdout"
        },
        {
          "output_type": "stream",
          "text": [
            " 97%|█████████▋| 1192/1225 [10:13<00:17,  1.87it/s]"
          ],
          "name": "stderr"
        },
        {
          "output_type": "stream",
          "text": [
            "\n",
            " Free  link:  https://www.credly.com/org/ibm/badge/application-modernization-with-ibm-z\n"
          ],
          "name": "stdout"
        },
        {
          "output_type": "stream",
          "text": [
            "\r 97%|█████████▋| 1193/1225 [10:13<00:17,  1.88it/s]"
          ],
          "name": "stderr"
        },
        {
          "output_type": "stream",
          "text": [
            "\n",
            " Free  link:  https://www.credly.com/org/ibm/badge/networking-on-z-os-foundations\n"
          ],
          "name": "stdout"
        },
        {
          "output_type": "stream",
          "text": [
            "\r 97%|█████████▋| 1194/1225 [10:14<00:15,  1.98it/s]"
          ],
          "name": "stderr"
        },
        {
          "output_type": "stream",
          "text": [
            "\n",
            " Free  link:  https://www.credly.com/org/ibm/badge/ibm-z-software-licensing\n"
          ],
          "name": "stdout"
        },
        {
          "output_type": "stream",
          "text": [
            " 98%|█████████▊| 1199/1225 [10:16<00:13,  1.91it/s]"
          ],
          "name": "stderr"
        },
        {
          "output_type": "stream",
          "text": [
            "\n",
            " Free  link:  https://www.credly.com/org/ibm/badge/introduction-to-ibm-z-os.1\n"
          ],
          "name": "stdout"
        },
        {
          "output_type": "stream",
          "text": [
            "\r 98%|█████████▊| 1200/1225 [10:17<00:13,  1.90it/s]"
          ],
          "name": "stderr"
        },
        {
          "output_type": "stream",
          "text": [
            "\n",
            " Free  link:  https://www.credly.com/org/ibm/badge/introduction-to-ibm-z-os\n"
          ],
          "name": "stdout"
        },
        {
          "output_type": "stream",
          "text": [
            "\r 98%|█████████▊| 1201/1225 [10:17<00:12,  1.90it/s]"
          ],
          "name": "stderr"
        },
        {
          "output_type": "stream",
          "text": [
            "\n",
            " Free  link:  https://www.credly.com/org/ibm/badge/lab-services-consultant-ibm-z\n"
          ],
          "name": "stdout"
        },
        {
          "output_type": "stream",
          "text": [
            "\r 98%|█████████▊| 1202/1225 [10:18<00:11,  2.00it/s]"
          ],
          "name": "stderr"
        },
        {
          "output_type": "stream",
          "text": [
            "\n",
            " Free  link:  https://www.credly.com/org/ibm/badge/ibm-z-software-hackathon-2020\n"
          ],
          "name": "stdout"
        },
        {
          "output_type": "stream",
          "text": [
            " 98%|█████████▊| 1206/1225 [10:20<00:09,  2.02it/s]"
          ],
          "name": "stderr"
        },
        {
          "output_type": "stream",
          "text": [
            "\n",
            " Free  link:  https://www.credly.com/org/ibm/badge/z-os-network-security-foundations\n"
          ],
          "name": "stdout"
        },
        {
          "output_type": "stream",
          "text": [
            "\r 99%|█████████▊| 1207/1225 [10:20<00:09,  1.92it/s]"
          ],
          "name": "stderr"
        },
        {
          "output_type": "stream",
          "text": [
            "\n",
            " Free  link:  https://www.credly.com/org/ibm/badge/ibm-z-day-speaker-advocate-2020\n"
          ],
          "name": "stdout"
        },
        {
          "output_type": "stream",
          "text": [
            "\r 99%|█████████▊| 1208/1225 [10:21<00:08,  1.90it/s]"
          ],
          "name": "stderr"
        },
        {
          "output_type": "stream",
          "text": [
            "\n",
            " Free  link:  https://www.credly.com/org/ibm/badge/ibm-techu-linux-for-ibm-z\n"
          ],
          "name": "stdout"
        },
        {
          "output_type": "stream",
          "text": [
            "\r 99%|█████████▊| 1209/1225 [10:22<00:08,  1.81it/s]"
          ],
          "name": "stderr"
        },
        {
          "output_type": "stream",
          "text": [
            "\n",
            " Free  link:  https://www.credly.com/org/ibm/badge/ibm-z-analytics-and-machine-learning.1\n"
          ],
          "name": "stdout"
        },
        {
          "output_type": "stream",
          "text": [
            " 99%|█████████▉| 1211/1225 [10:23<00:07,  1.75it/s]"
          ],
          "name": "stderr"
        },
        {
          "output_type": "stream",
          "text": [
            "\n",
            " Free  link:  https://www.credly.com/org/ibm/badge/z-vm-skills-club-level-1\n"
          ],
          "name": "stdout"
        },
        {
          "output_type": "stream",
          "text": [
            "\r 99%|█████████▉| 1212/1225 [10:23<00:07,  1.72it/s]"
          ],
          "name": "stderr"
        },
        {
          "output_type": "stream",
          "text": [
            "\n",
            " Free  link:  https://www.credly.com/org/ibm/badge/ibm-z-federated-advocate-hero\n"
          ],
          "name": "stdout"
        },
        {
          "output_type": "stream",
          "text": [
            "\r 99%|█████████▉| 1213/1225 [10:24<00:06,  1.82it/s]"
          ],
          "name": "stderr"
        },
        {
          "output_type": "stream",
          "text": [
            "\n",
            " Free  link:  https://www.credly.com/org/ibm/badge/ibm-z-system-administrator-practitioner\n"
          ],
          "name": "stdout"
        },
        {
          "output_type": "stream",
          "text": [
            "\r 99%|█████████▉| 1214/1225 [10:24<00:06,  1.78it/s]"
          ],
          "name": "stderr"
        },
        {
          "output_type": "stream",
          "text": [
            "\n",
            " Free  link:  https://www.credly.com/org/ibm/badge/ibm-z-os-mainframe-practitioner\n"
          ],
          "name": "stdout"
        },
        {
          "output_type": "stream",
          "text": [
            "\r 99%|█████████▉| 1215/1225 [10:25<00:05,  1.78it/s]"
          ],
          "name": "stderr"
        },
        {
          "output_type": "stream",
          "text": [
            "\n",
            " Free  link:  https://www.credly.com/org/ibm/badge/z-os-system-programmer-experienced\n"
          ],
          "name": "stdout"
        },
        {
          "output_type": "stream",
          "text": [
            " 99%|█████████▉| 1217/1225 [10:26<00:04,  1.86it/s]"
          ],
          "name": "stderr"
        },
        {
          "output_type": "stream",
          "text": [
            "\n",
            " Free  link:  https://www.credly.com/org/ibm/badge/storage-for-ibm-z-sales-foundation\n"
          ],
          "name": "stdout"
        },
        {
          "output_type": "stream",
          "text": [
            "\r 99%|█████████▉| 1218/1225 [10:26<00:03,  1.97it/s]"
          ],
          "name": "stderr"
        },
        {
          "output_type": "stream",
          "text": [
            "\n",
            " Free  link:  https://www.credly.com/org/ibm/badge/z-vm-skills-club-level-2\n"
          ],
          "name": "stdout"
        },
        {
          "output_type": "stream",
          "text": [
            "100%|█████████▉| 1220/1225 [10:27<00:02,  2.02it/s]"
          ],
          "name": "stderr"
        },
        {
          "output_type": "stream",
          "text": [
            "\n",
            " Free  link:  https://www.credly.com/org/ibm/badge/ibm-developer-for-z-os-basics\n"
          ],
          "name": "stdout"
        },
        {
          "output_type": "stream",
          "text": [
            "\r100%|█████████▉| 1221/1225 [10:28<00:02,  1.88it/s]"
          ],
          "name": "stderr"
        },
        {
          "output_type": "stream",
          "text": [
            "\n",
            " Free  link:  https://www.credly.com/org/ibm/badge/ibm-techu-encryption-for-ibm-z\n"
          ],
          "name": "stdout"
        },
        {
          "output_type": "stream",
          "text": [
            "\r100%|█████████▉| 1222/1225 [10:28<00:01,  1.95it/s]"
          ],
          "name": "stderr"
        },
        {
          "output_type": "stream",
          "text": [
            "\n",
            " Free  link:  https://www.credly.com/org/ibm/badge/z-vm-skills-club-level-3\n"
          ],
          "name": "stdout"
        },
        {
          "output_type": "stream",
          "text": [
            "100%|█████████▉| 1224/1225 [10:30<00:00,  1.88it/s]"
          ],
          "name": "stderr"
        },
        {
          "output_type": "stream",
          "text": [
            "\n",
            " Free  link:  https://www.credly.com/org/ibm/badge/ibm-z-federated-advocate-super-hero\n"
          ],
          "name": "stdout"
        },
        {
          "output_type": "stream",
          "text": [
            "100%|██████████| 1225/1225 [10:30<00:00,  1.94it/s]\n"
          ],
          "name": "stderr"
        },
        {
          "output_type": "stream",
          "text": [
            "Closing browser\n"
          ],
          "name": "stdout"
        },
        {
          "output_type": "execute_result",
          "data": {
            "text/plain": [
              "['https://www.credly.com/org/capacitacion-usach/badge/introduccion-a-kali',\n",
              " 'https://www.credly.com/org/east-noble-school-corporation/badge/science-a-z',\n",
              " 'https://www.credly.com/org/fundacion-universitaria-los-libertadores/badge/introduccion-a-los-negocios-a-partir-de-simuladores',\n",
              " 'https://www.credly.com/org/laticrete/badge/introduccion-a-autonivelantes',\n",
              " 'https://www.credly.com/org/capacitacion-usach/badge/introduccion-a-linux',\n",
              " 'https://www.credly.com/org/east-noble-school-corporation/badge/skype-a-scientist',\n",
              " 'https://www.credly.com/org/el-puerto-de-liverpool/badge/atencion-a-comensales.2',\n",
              " 'https://www.credly.com/org/el-puerto-de-liverpool/badge/atencion-a-comensales-2020',\n",
              " 'https://www.credly.com/org/universidad-santo-tomas/badge/joven-investigador-a',\n",
              " 'https://www.credly.com/org/pvh/badge/i-d-champion-level-1',\n",
              " 'https://www.credly.com/org/ibm/badge/design-user-experience-d-ux-essentials',\n",
              " 'https://www.credly.com/org/universidad-externado-de-colombia/badge/diseno-curricular-e-e-learning.2',\n",
              " 'https://www.credly.com/org/universidad-externado-de-colombia/badge/e-moderacion',\n",
              " 'https://www.credly.com/org/real-ideas-organisation/badge/generation-e-young-campaigner',\n",
              " 'https://www.credly.com/org/fundacion-universitaria-los-libertadores/badge/investigacion-e-innovacion-educativa',\n",
              " 'https://www.credly.com/org/real-ideas-organisation/badge/generation-e-connect-participation',\n",
              " 'https://www.credly.com/org/real-ideas-organisation/badge/generation-e-young-facilitator',\n",
              " 'https://www.credly.com/org/real-ideas-organisation/badge/generation-e-youth-insight',\n",
              " 'https://www.credly.com/org/real-ideas-organisation/badge/generation-e-connect-engagement',\n",
              " 'https://www.credly.com/org/real-ideas-organisation/badge/generation-e-mindset-week',\n",
              " 'https://www.credly.com/org/real-ideas-organisation/badge/generation-e-young-consultant',\n",
              " 'https://www.credly.com/org/ibm/badge/ibm-f-o-internal-trainer',\n",
              " 'https://www.credly.com/org/p-g/badge/f-a-future-proofing-business-analysis',\n",
              " 'https://www.credly.com/org/p-g/badge/p-g-project-management-foundations-for-f-a',\n",
              " 'https://www.credly.com/org/ibm/badge/f-o-cognitive-analytics-experience-data-analytics',\n",
              " 'https://www.credly.com/org/p-g/badge/p-g-programmatic',\n",
              " 'https://www.credly.com/org/p-g/badge/p-g-google-fundamentals',\n",
              " 'https://www.credly.com/org/p-g/badge/p-g-google-intermediate',\n",
              " 'https://www.credly.com/org/p-g/badge/p-g-carsx-practitioner',\n",
              " 'https://www.credly.com/org/p-g/badge/p-g-cars-builder',\n",
              " 'https://www.credly.com/org/p-g/badge/p-g-lean-innovation',\n",
              " 'https://www.credly.com/org/p-g/badge/p-g-creatives-and-influencers',\n",
              " 'https://www.credly.com/org/p-g/badge/sap-fundamentals-at-p-g',\n",
              " 'https://www.credly.com/org/p-g/badge/p-g-sap-bw-foundational',\n",
              " 'https://www.credly.com/org/p-g/badge/p-g-social-media-fundamentals',\n",
              " 'https://www.credly.com/org/p-g/badge/p-g-digital-credentials-practitioner',\n",
              " 'https://www.credly.com/org/p-g/badge/p-g-influencer-marketing-foundations',\n",
              " 'https://www.credly.com/org/p-g/badge/p-g-performance-marketing-practitioner',\n",
              " 'https://www.credly.com/org/p-g/badge/growth-mindset-practitioner-at-p-g.1',\n",
              " 'https://www.credly.com/org/p-g/badge/p-g-performance-marketing-and-ecommerce',\n",
              " 'https://www.credly.com/org/p-g/badge/p-g-data-and-analytics-foundations',\n",
              " 'https://www.credly.com/org/p-g/badge/p-g-media-and-digital-fundamentals',\n",
              " 'https://www.credly.com/org/p-g/badge/p-g-media-and-digital-intermediate',\n",
              " 'https://www.credly.com/org/p-g/badge/p-g-business-process-automation-foundations',\n",
              " 'https://www.credly.com/org/p-g/badge/p-g-canada-retailer-ecosystem-foundations',\n",
              " 'https://www.credly.com/org/p-g/badge/p-g-crm-email-marketing-and-websites',\n",
              " 'https://www.credly.com/org/p-g/badge/p-g-automated-data-transformation-expert',\n",
              " 'https://www.credly.com/org/p-g/badge/p-g-automated-data-transformation-foundations',\n",
              " 'https://www.credly.com/org/p-g/badge/p-g-digital-media-optimization-foundations',\n",
              " 'https://www.credly.com/org/p-g/badge/p-g-digital-media-optimization-in-la',\n",
              " 'https://www.credly.com/org/p-g/badge/p-g-project-management-foundations-for-f-a',\n",
              " 'https://www.credly.com/org/micro-focus/badge/im-g-controlpoint-certified-presales-engineer-mfcpe',\n",
              " 'https://www.credly.com/org/p-g/badge/p-g-project-management-foundations-for-brand-sales',\n",
              " 'https://www.credly.com/org/p-g/badge/p-g-project-management-foundations-for-product-supply',\n",
              " 'https://www.credly.com/org/p-g/badge/d-a-extended-devops-level-1-at-p-g',\n",
              " 'https://www.credly.com/org/micro-focus/badge/im-g-content-manager-certified-presales-engineer-mfcpe',\n",
              " 'https://www.credly.com/org/micro-focus/badge/im-g-customer-success-generalist-certified-sales-representative-mfcsr',\n",
              " 'https://www.credly.com/org/p-g/badge/analise-e-ativacao-de-dados-data-analytics-and-activation-p-g-brasil',\n",
              " 'https://www.credly.com/org/hawai-i-community-college-instructional-technology-support-office/badge/toolbox-h5p',\n",
              " 'https://www.credly.com/org/fundacion-universitaria-los-libertadores/badge/ingles-i',\n",
              " 'https://www.credly.com/org/auburn/badge/community-engaged-faculty-i-cef-i',\n",
              " 'https://www.credly.com/org/ibm/badge/i-will',\n",
              " 'https://www.credly.com/org/northern-arizona-university/badge/communication-essentials-i',\n",
              " 'https://www.credly.com/org/northern-arizona-university/badge/effective-leadership-i',\n",
              " 'https://www.credly.com/org/reach-cyber-charter-school/badge/career-explorer-i',\n",
              " 'https://www.credly.com/org/ibm/badge/t-a-l-k-practitioner',\n",
              " 'https://www.credly.com/org/ibm/badge/ibm-linuxone-technical-sales-l2',\n",
              " 'https://www.credly.com/org/ibm/badge/t-a-l-k-practitioner',\n",
              " 'https://www.credly.com/org/micro-focus/badge/itom-cms-l100-series-completion-badge',\n",
              " 'https://www.credly.com/org/micro-focus/badge/itom-opsb-l100-series-completion-badge',\n",
              " 'https://www.credly.com/org/micro-focus/badge/itom-rpa-l100-series-completion-badge',\n",
              " 'https://www.credly.com/org/universidad-externado-de-colombia/badge/microtaller-screencast-o-matic',\n",
              " 'https://www.credly.com/org/ibm/badge/ibm-f-o-internal-trainer',\n",
              " 'https://www.credly.com/org/hawai-i-community-college-instructional-technology-support-office/badge/toolbox-screencast-o-matic',\n",
              " 'https://www.credly.com/org/universidad-santo-tomas/badge/pasante-o-practicante-tomasino-destacado',\n",
              " 'https://www.credly.com/org/asociacion-colombiana-de-universidades/badge/presentacion-virtual-o-presencial-en-evento-ascun',\n",
              " 'https://www.credly.com/org/ibm/badge/f-o-cognitive-analytics-experience-data-analytics',\n",
              " 'https://www.credly.com/org/universidad-santo-tomas/badge/editor-de-revista-cientifica-o-academica-altamente-acreditada',\n",
              " 'https://www.credly.com/org/asociacion-colombiana-de-universidades/badge/coordinacion-nacional-o-internacional-estrategias-asociativas-ies',\n",
              " 'https://www.credly.com/org/acreditta/badge/aliado-en-el-6o-congreso-internacional-todos-trabajando-por-la-educacion-coneduq-2020',\n",
              " 'https://www.credly.com/org/oui-iohe-organizacion-universitaria-interamericana/badge/premio-interamericano-en-modelos-educativos-innovadores-en-educacion-superior-edicion-2020-2o-lugar',\n",
              " 'https://www.credly.com/org/acreditta/badge/ponente-tallerista-en-el-6o-congreso-internacional-todos-trabajando-por-la-educacion-coneduq-2020',\n",
              " 'https://www.credly.com/org/ibm/badge/p-tech-mentor',\n",
              " 'https://www.credly.com/org/p-g/badge/p-g-programmatic',\n",
              " 'https://www.credly.com/org/p-g/badge/p-g-cars-builder',\n",
              " 'https://www.credly.com/org/p-g/badge/p-g-carsx-practitioner',\n",
              " 'https://www.credly.com/org/p-g/badge/p-g-google-fundamentals',\n",
              " 'https://www.credly.com/org/p-g/badge/p-g-google-intermediate',\n",
              " 'https://www.credly.com/org/p-g/badge/p-g-lean-innovation',\n",
              " 'https://www.credly.com/org/p-g/badge/sap-fundamentals-at-p-g',\n",
              " 'https://www.credly.com/org/p-g/badge/p-g-digital-credentials-practitioner',\n",
              " 'https://www.credly.com/org/p-g/badge/p-g-influencer-marketing-foundations',\n",
              " 'https://www.credly.com/org/p-g/badge/p-g-performance-marketing-practitioner',\n",
              " 'https://www.credly.com/org/p-g/badge/p-g-creatives-and-influencers',\n",
              " 'https://www.credly.com/org/p-g/badge/p-g-social-media-fundamentals',\n",
              " 'https://www.credly.com/org/p-g/badge/growth-mindset-practitioner-at-p-g.1',\n",
              " 'https://www.credly.com/org/p-g/badge/p-g-performance-marketing-and-ecommerce',\n",
              " 'https://www.credly.com/org/p-g/badge/p-g-sap-bw-foundational',\n",
              " 'https://www.credly.com/org/p-g/badge/p-g-data-and-analytics-foundations',\n",
              " 'https://www.credly.com/org/p-g/badge/p-g-media-and-digital-fundamentals',\n",
              " 'https://www.credly.com/org/p-g/badge/p-g-business-process-automation-foundations',\n",
              " 'https://www.credly.com/org/p-g/badge/p-g-media-and-digital-intermediate',\n",
              " 'https://www.credly.com/org/p-g/badge/p-g-canada-retailer-ecosystem-foundations',\n",
              " 'https://www.credly.com/org/p-g/badge/p-g-automated-data-transformation-expert',\n",
              " 'https://www.credly.com/org/p-g/badge/p-g-automated-data-transformation-foundations',\n",
              " 'https://www.credly.com/org/p-g/badge/p-g-digital-media-optimization-foundations',\n",
              " 'https://www.credly.com/org/p-g/badge/p-g-crm-email-marketing-and-websites',\n",
              " 'https://www.credly.com/org/p-g/badge/p-g-project-management-foundations-for-f-a',\n",
              " 'https://www.credly.com/org/p-g/badge/p-g-digital-media-optimization-in-la',\n",
              " 'https://www.credly.com/org/p-g/badge/p-g-project-management-foundations-for-brand-sales',\n",
              " 'https://www.credly.com/org/p-g/badge/p-g-project-management-foundations-for-product-supply',\n",
              " 'https://www.credly.com/org/university-of-north-dakota/badge/scholarship-central-awarding-refresher-and-q-a-session',\n",
              " 'https://www.credly.com/org/ibm/badge/ibm-infosphere-data-replication-v11-4-sql-and-q-replication-advanced',\n",
              " 'https://www.credly.com/org/hp-university/badge/hp-personal-systems-services-q1-2021-learning-plan',\n",
              " 'https://www.credly.com/org/ibm/badge/ibm-research-skill-growth-initiative',\n",
              " 'https://www.credly.com/org/ibm/badge/r-essentials',\n",
              " 'https://www.credly.com/org/ibm/badge/using-r-with-databases',\n",
              " 'https://www.credly.com/org/ibm/badge/data-visualization-with-r',\n",
              " 'https://www.credly.com/org/beenleigh-state-high-school/badge/gold-pat-r-badge',\n",
              " 'https://www.credly.com/org/beenleigh-state-high-school/badge/bronze-pat-r-badge',\n",
              " 'https://www.credly.com/org/beenleigh-state-high-school/badge/silver-pat-r-badge',\n",
              " 'https://www.credly.com/org/bayer-andina/badge/in-projects-drone-s-spraying.1',\n",
              " 'https://www.credly.com/org/bayer-andina/badge/in-projects-drone-s-spraying.2',\n",
              " 'https://www.credly.com/org/bayer-andina/badge/in-projects-drone-s-spraying',\n",
              " 'https://www.credly.com/org/volkswagen-australia/badge/volkswagen-t-cross-product-expert',\n",
              " 'https://www.credly.com/org/volkswagen-australia/badge/volkswagen-t-cross-technical-expert',\n",
              " 'https://www.credly.com/org/att-summer-learning-academy/badge/at-t-summer-learning-academy-extern',\n",
              " 'https://www.credly.com/org/volkswagen-australia/badge/volkswagen-t-roc-product-expert',\n",
              " 'https://www.credly.com/org/volkswagen-australia/badge/volkswagen-t-roc-technical-expert',\n",
              " 'https://www.credly.com/org/att-summer-learning-academy/badge/2021-at-t-summer-learning-academy-extern',\n",
              " 'https://www.credly.com/org/missouri-state-university/badge/2014-help-desk-t-shirt-design-winner',\n",
              " 'https://www.credly.com/org/ansys/badge/ansys-course-completion-a-four-point-bend-test-on-a-t-beam',\n",
              " 'https://www.credly.com/org/pvh/badge/pvh-u-ambassador',\n",
              " 'https://www.credly.com/org/justiceu/badge/justice-u-human-trafficking-awareness-badge',\n",
              " 'https://www.credly.com/org/justiceu/badge/justice-u-certification-csec-essential-knowledge-for-case-managers-in-georgia',\n",
              " 'https://www.credly.com/org/justiceu/badge/justice-u-certification-csec-essential-knowledge-for-healthcare-professionals-in-georgia',\n",
              " 'https://www.credly.com/org/justiceu/badge/justice-u-commercial-sexual-exploitation-of-children-csec-awareness-for-georgia-badge',\n",
              " 'https://www.credly.com/org/justiceu/badge/justice-u-certification-csec-essential-knowledge-for-behavioral-health-providers-in-georgia',\n",
              " 'https://www.credly.com/org/justiceu/badge/justice-u-certification-csec-essential-knowledge-for-group-home-professionals-in-georgia',\n",
              " 'https://www.credly.com/org/justiceu/badge/justice-u-certification-csec-essential-knowledge-for-educators-school-personnel-in-georgia',\n",
              " 'https://www.credly.com/org/justiceu/badge/justice-u-certification-csec-essential-knowledge-for-juvenile-justice-professionals-in-georgia',\n",
              " 'https://www.credly.com/org/justiceu/badge/justice-u-certification-csec-essential-knowledge-for-community-organizations-and-advocates-in-georgia',\n",
              " 'https://www.credly.com/org/justiceu/badge/justice-u-certification-csec-essential-knowledge-for-foster-care-adoptive-families-associations-in-georgia',\n",
              " 'https://www.credly.com/org/techo-bogota/badge/plan-v-finalizado',\n",
              " 'https://www.credly.com/org/ensena-por-colombia/badge/trabajo-con-otros-v',\n",
              " 'https://www.credly.com/org/ensena-por-colombia/badge/aprendizaje-y-desarrollo-v',\n",
              " 'https://www.credly.com/org/ensena-por-colombia/badge/curriculo-y-planeacion-v',\n",
              " 'https://www.credly.com/org/bci/badge/especialista-transformacion-w-ib',\n",
              " 'https://www.credly.com/org/ibm/badge/ibm-storediq-v7-x',\n",
              " 'https://www.credly.com/org/alley/badge/marketing-fiu-x-alley',\n",
              " 'https://www.credly.com/org/alley/badge/sustainability-fiu-x-alley',\n",
              " 'https://www.credly.com/org/alley/badge/guest-experience-fiu-x-alley',\n",
              " 'https://www.credly.com/org/ibm/badge/ibm-storediq-v7-x-administrator',\n",
              " 'https://www.credly.com/org/ibm/badge/ibm-streams-v4-2-x-essentials',\n",
              " 'https://www.credly.com/org/ibm/badge/ibm-cloudant-local-v1-1-x',\n",
              " 'https://www.credly.com/org/alley/badge/data-analytics-fiu-x-alley',\n",
              " 'https://www.credly.com/org/ibm/badge/decision-optimization-center-v3-x',\n",
              " 'https://www.credly.com/org/ibm/badge/ibm-big-sql-v5-0-x',\n",
              " 'https://www.credly.com/org/ibm/badge/ibm-db2-warehouse-v11-x',\n",
              " 'https://www.credly.com/org/ibm/badge/ibm-datastage-v11-5-x-configuration.1',\n",
              " 'https://www.credly.com/org/ibm/badge/ibm-datastage-v11-5-x-developer',\n",
              " 'https://www.credly.com/org/ibm/badge/ibm-datastage-v11-5-x-optimization',\n",
              " 'https://www.credly.com/org/ibm/badge/mdm-v11-5-x-on-cloud-infrastructure',\n",
              " 'https://www.credly.com/org/ibm/badge/apache-spark-on-cloud-v2-0-x',\n",
              " 'https://www.credly.com/org/micro-focus/badge/vertica-certified-professional-essentials-9-x',\n",
              " 'https://www.credly.com/org/fundacion-universitaria-los-libertadores/badge/franquicias-y-catering',\n",
              " 'https://www.credly.com/org/fundacion-universitaria-los-libertadores/badge/ludica-y-didactica',\n",
              " 'https://www.credly.com/org/espol-escuela-superior-politecnica-del-litoral/badge/interaccion-y-comunicacion',\n",
              " 'https://www.credly.com/org/espol-escuela-superior-politecnica-del-litoral/badge/liderazgo-y-autoagencia',\n",
              " 'https://www.credly.com/org/el-puerto-de-liverpool/badge/servicio-y-ventas',\n",
              " 'https://www.credly.com/org/fundacion-universitaria-los-libertadores/badge/comunicacion-y-expresion',\n",
              " 'https://www.credly.com/org/colsubsidio/badge/prevencion-y-cuidado',\n",
              " 'https://www.credly.com/org/el-puerto-de-liverpool/badge/servicio-y-ventas-2021',\n",
              " 'https://www.credly.com/org/ensena-por-colombia/badge/curriculo-y-planeacion-ii',\n",
              " 'https://www.credly.com/org/ensena-por-colombia/badge/aprendizaje-y-desarrollo-iv',\n",
              " 'https://www.credly.com/org/espol-escuela-superior-politecnica-del-litoral/badge/creatividad-innovacion-y-emprendimiento',\n",
              " 'https://www.credly.com/org/ensena-por-colombia/badge/aprendizaje-y-desarrollo-v',\n",
              " 'https://www.credly.com/org/ensena-por-colombia/badge/curriculo-y-planeacion-v',\n",
              " 'https://www.credly.com/org/universidad-santo-tomas/badge/literatura-cultura-y-sociedad',\n",
              " 'https://www.credly.com/org/ensena-por-colombia/badge/aprendizaje-y-desarrollo-ii',\n",
              " 'https://www.credly.com/org/ensena-por-colombia/badge/curriculo-y-planeacion-iv',\n",
              " 'https://www.credly.com/org/recaudo-bogota-s-a-s/badge/gobierno-corporativo-y-administrativa',\n",
              " 'https://www.credly.com/org/ensena-por-colombia/badge/aprendizaje-y-desarrollo-iii',\n",
              " 'https://www.credly.com/org/east-noble-school-corporation/badge/science-a-z',\n",
              " 'https://www.credly.com/org/ibm/badge/ibm-z-security.2',\n",
              " 'https://www.credly.com/org/ibm/badge/ibm-z-resiliency',\n",
              " 'https://www.credly.com/org/ibm/badge/ibm-z-foundations.1',\n",
              " 'https://www.credly.com/org/ibm/badge/introduction-to-z-os-commands-and-panels-on-ibm-z',\n",
              " 'https://www.credly.com/org/ibm/badge/introduction-to-z-os-commands-and-panels-on-ibm-z.1',\n",
              " 'https://www.credly.com/org/ibm/badge/architecting-applications-with-ibm-z',\n",
              " 'https://www.credly.com/org/ibm/badge/application-modernization-with-ibm-z',\n",
              " 'https://www.credly.com/org/ibm/badge/networking-on-z-os-foundations',\n",
              " 'https://www.credly.com/org/ibm/badge/ibm-z-software-licensing',\n",
              " 'https://www.credly.com/org/ibm/badge/introduction-to-ibm-z-os.1',\n",
              " 'https://www.credly.com/org/ibm/badge/introduction-to-ibm-z-os',\n",
              " 'https://www.credly.com/org/ibm/badge/lab-services-consultant-ibm-z',\n",
              " 'https://www.credly.com/org/ibm/badge/ibm-z-software-hackathon-2020',\n",
              " 'https://www.credly.com/org/ibm/badge/z-os-network-security-foundations',\n",
              " 'https://www.credly.com/org/ibm/badge/ibm-z-day-speaker-advocate-2020',\n",
              " 'https://www.credly.com/org/ibm/badge/ibm-techu-linux-for-ibm-z',\n",
              " 'https://www.credly.com/org/ibm/badge/ibm-z-analytics-and-machine-learning.1',\n",
              " 'https://www.credly.com/org/ibm/badge/z-vm-skills-club-level-1',\n",
              " 'https://www.credly.com/org/ibm/badge/ibm-z-federated-advocate-hero',\n",
              " 'https://www.credly.com/org/ibm/badge/ibm-z-system-administrator-practitioner',\n",
              " 'https://www.credly.com/org/ibm/badge/ibm-z-os-mainframe-practitioner',\n",
              " 'https://www.credly.com/org/ibm/badge/z-os-system-programmer-experienced',\n",
              " 'https://www.credly.com/org/ibm/badge/storage-for-ibm-z-sales-foundation',\n",
              " 'https://www.credly.com/org/ibm/badge/z-vm-skills-club-level-2',\n",
              " 'https://www.credly.com/org/ibm/badge/ibm-developer-for-z-os-basics',\n",
              " 'https://www.credly.com/org/ibm/badge/ibm-techu-encryption-for-ibm-z',\n",
              " 'https://www.credly.com/org/ibm/badge/z-vm-skills-club-level-3',\n",
              " 'https://www.credly.com/org/ibm/badge/ibm-z-federated-advocate-super-hero']"
            ]
          },
          "metadata": {
            "tags": []
          },
          "execution_count": 23
        }
      ]
    }
  ]
}